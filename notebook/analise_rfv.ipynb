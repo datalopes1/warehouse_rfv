{
 "cells": [
  {
   "cell_type": "markdown",
   "id": "8449e356-451c-4930-8c4e-588d20623356",
   "metadata": {},
   "source": [
    "# 1. Análise RFV (Recência Frequência Valor) - Retail Sales Data\n",
    "\n",
    "Neste projeto será realizada uma análise do tipo RFV (Recência, Frequência e Valor) com dados que encontrei neste video no Youtube do canal [Jie Jenn](https://www.youtube.com/watch?v=9wxWrERZvss)."
   ]
  },
  {
   "cell_type": "markdown",
   "id": "8d839d3d-dfec-482b-b3a2-f8dbcbc77f63",
   "metadata": {},
   "source": [
    "## 1.1. Os dados, o problema e os objetivos\n",
    "\n",
    "A análise RFV é uma técnica de segmentação de clientes muito utilizada em marketing e gestão de relacionamento com clientes (CRM). Ele tem base em três métricas:\n",
    "\n",
    "- Recência (Recency): O tempo decorrido entre a última compra ou interação de um cliente com a empresa. Clientes mais recentes tem tendência de fazer mais compras do que clientes que não interagem a muito tempo.\n",
    "- Frequência (Frequency): É o número total de compras ou interações do cliente com a empresa. Clientes com maior frequência de compra, representam aqueles que são fiéis a empresa.\n",
    "- Valor monetário (Monetary value): Refere-se ao gasto total ou a média de gastos do cliente em suas compras na empresa. Clientes que tem maior média de valores gastos na empresa contribuem de maneira significante com os lucros dela.\n",
    "\n",
    "Combinando essas três métricas é possível de várias maneiras segmentar os clientes e partir disso criar campanhas de marketing, estratégias de relacionamento e campanhas focada em cada segmento de cliente especifico. \n",
    "\n",
    "### Estrutura do dataset\n",
    "Os dados são de uma rede varejista fictícia que faz entregas internacionais de componentes. As colunas estão organizadas dessa forma:\n",
    "\n",
    "| Coluna | Descrição|\n",
    "|--------|----------|\n",
    "|**OrderNumber**| ID do pedido|\n",
    "|**Sales Channel**| Canal de vendas do pedido|\n",
    "|**WarehouseCode**| ID do armazém do pedido|\n",
    "|**ProcuredDate**|Data de reserva do pedido|\n",
    "|**OrderDate**|Data da realizaçãod do pedido|\n",
    "|**ShipDate**|Data de envio|\n",
    "|**DeliveryDate**|Data de entrega|\n",
    "|**CurrencyCode**|Moeda utilizada na transação|\n",
    "|**_SalesTeamID**|ID do time de vendas|\n",
    "|**_CustomerID**|ID do cliente|\n",
    "|**_StoreID**|ID da loja|\n",
    "|**_ProductID**|ID do produto|\n",
    "|**Order Quantity**|Quantidade de itens no pedido|\n",
    "|**Discount Applied**|Desconto aplicado na compra|\n",
    "|**Unit Price**|Preço unitário do produto|\n",
    "|**Unit Cost**|Custo unitário|\n",
    "\n",
    "### Objetivos\n",
    "\n",
    "Com este conjunto de dados em mãos meu objetivo será realizar a análise RFV, com uso do KMeans, e identificar uma segmentação de clientes para ser trabalhada pelo setor de marketing da empresa. "
   ]
  },
  {
   "cell_type": "markdown",
   "id": "9862bdba-96f6-4744-9deb-f288037af97d",
   "metadata": {},
   "source": [
    "## 1.2. Importação das bibliotecas e carregamento dos dados"
   ]
  },
  {
   "cell_type": "code",
   "execution_count": 157,
   "id": "94f575a2-e452-4490-ada4-376c89a3e121",
   "metadata": {},
   "outputs": [],
   "source": [
    "# Bibliotecas para tratar dados\n",
    "import pandas as pd\n",
    "import numpy as np\n",
    "import datetime\n",
    "\n",
    "# Bibliotecas de visualização\n",
    "import matplotlib.pyplot as plt\n",
    "import seaborn as sns\n",
    "\n",
    "# Configurações do Jupyter Notebook\n",
    "sns.set()\n",
    "import warnings\n",
    "warnings.filterwarnings(\"ignore\")"
   ]
  },
  {
   "cell_type": "code",
   "execution_count": 158,
   "id": "5658ae70-7f1a-4639-98a6-04da3f4384c7",
   "metadata": {},
   "outputs": [],
   "source": [
    "sales_data = pd.read_csv(\"../data/raw/dados.csv\")"
   ]
  },
  {
   "cell_type": "markdown",
   "id": "6b6e5ecc-2aaf-4c08-966c-e5c56e1ca576",
   "metadata": {},
   "source": [
    "# 2. Entendendo os dados"
   ]
  },
  {
   "cell_type": "markdown",
   "id": "48c6945f-2884-485a-8d18-730069e2e080",
   "metadata": {},
   "source": [
    "## 2.1. A estrutura do dataframe"
   ]
  },
  {
   "cell_type": "code",
   "execution_count": 159,
   "id": "4108b370-07f0-400e-9378-518008f30872",
   "metadata": {},
   "outputs": [
    {
     "name": "stdout",
     "output_type": "stream",
     "text": [
      "O DataFrame possui 7991 linhas e 16 colunas.\n"
     ]
    }
   ],
   "source": [
    "print(f\"O DataFrame possui {sales_data.shape[0]} linhas e {sales_data.shape[1]} colunas.\")"
   ]
  },
  {
   "cell_type": "code",
   "execution_count": 160,
   "id": "0580a0f7-4751-40d4-be21-60f31aad19eb",
   "metadata": {},
   "outputs": [
    {
     "name": "stdout",
     "output_type": "stream",
     "text": [
      "Temos 8 colunas numéricas e 8 colunas não-numéricas\n"
     ]
    }
   ],
   "source": [
    "numerics = ['int16', 'int32', 'int64', 'float16', 'float32', 'float64']\n",
    "numericas = sales_data.select_dtypes(include = numerics)\n",
    "nao_numericas = sales_data.select_dtypes(exclude = numerics)\n",
    "\n",
    "print(\n",
    "    f'Temos {numericas.shape[1]} colunas numéricas e {nao_numericas.shape[1]} colunas não-numéricas'\n",
    ")"
   ]
  },
  {
   "cell_type": "code",
   "execution_count": 161,
   "id": "01f25da1-9506-4278-8c97-54fe941075b7",
   "metadata": {},
   "outputs": [
    {
     "data": {
      "text/html": [
       "<div>\n",
       "<style scoped>\n",
       "    .dataframe tbody tr th:only-of-type {\n",
       "        vertical-align: middle;\n",
       "    }\n",
       "\n",
       "    .dataframe tbody tr th {\n",
       "        vertical-align: top;\n",
       "    }\n",
       "\n",
       "    .dataframe thead th {\n",
       "        text-align: right;\n",
       "    }\n",
       "</style>\n",
       "<table border=\"1\" class=\"dataframe\">\n",
       "  <thead>\n",
       "    <tr style=\"text-align: right;\">\n",
       "      <th></th>\n",
       "      <th>OrderNumber</th>\n",
       "      <th>Sales Channel</th>\n",
       "      <th>WarehouseCode</th>\n",
       "      <th>ProcuredDate</th>\n",
       "      <th>OrderDate</th>\n",
       "      <th>ShipDate</th>\n",
       "      <th>DeliveryDate</th>\n",
       "      <th>CurrencyCode</th>\n",
       "      <th>_SalesTeamID</th>\n",
       "      <th>_CustomerID</th>\n",
       "      <th>_StoreID</th>\n",
       "      <th>_ProductID</th>\n",
       "      <th>Order Quantity</th>\n",
       "      <th>Discount Applied</th>\n",
       "      <th>Unit Price</th>\n",
       "      <th>Unit Cost</th>\n",
       "    </tr>\n",
       "  </thead>\n",
       "  <tbody>\n",
       "    <tr>\n",
       "      <th>0</th>\n",
       "      <td>SO - 000101</td>\n",
       "      <td>In-Store</td>\n",
       "      <td>WARE-UHY1004</td>\n",
       "      <td>12/31/2017</td>\n",
       "      <td>5/31/2018</td>\n",
       "      <td>6/14/2018</td>\n",
       "      <td>6/19/2018</td>\n",
       "      <td>USD</td>\n",
       "      <td>6</td>\n",
       "      <td>15</td>\n",
       "      <td>259</td>\n",
       "      <td>12</td>\n",
       "      <td>5</td>\n",
       "      <td>0.075</td>\n",
       "      <td>1963.1</td>\n",
       "      <td>1001.181</td>\n",
       "    </tr>\n",
       "    <tr>\n",
       "      <th>1</th>\n",
       "      <td>SO - 000102</td>\n",
       "      <td>Online</td>\n",
       "      <td>WARE-NMK1003</td>\n",
       "      <td>12/31/2017</td>\n",
       "      <td>5/31/2018</td>\n",
       "      <td>6/22/2018</td>\n",
       "      <td>7/2/2018</td>\n",
       "      <td>USD</td>\n",
       "      <td>14</td>\n",
       "      <td>20</td>\n",
       "      <td>196</td>\n",
       "      <td>27</td>\n",
       "      <td>3</td>\n",
       "      <td>0.075</td>\n",
       "      <td>3939.6</td>\n",
       "      <td>3348.660</td>\n",
       "    </tr>\n",
       "    <tr>\n",
       "      <th>2</th>\n",
       "      <td>SO - 000103</td>\n",
       "      <td>Distributor</td>\n",
       "      <td>WARE-UHY1004</td>\n",
       "      <td>12/31/2017</td>\n",
       "      <td>5/31/2018</td>\n",
       "      <td>6/21/2018</td>\n",
       "      <td>7/1/2018</td>\n",
       "      <td>USD</td>\n",
       "      <td>21</td>\n",
       "      <td>16</td>\n",
       "      <td>213</td>\n",
       "      <td>16</td>\n",
       "      <td>1</td>\n",
       "      <td>0.050</td>\n",
       "      <td>1775.5</td>\n",
       "      <td>781.220</td>\n",
       "    </tr>\n",
       "    <tr>\n",
       "      <th>3</th>\n",
       "      <td>SO - 000104</td>\n",
       "      <td>Wholesale</td>\n",
       "      <td>WARE-NMK1003</td>\n",
       "      <td>12/31/2017</td>\n",
       "      <td>5/31/2018</td>\n",
       "      <td>6/2/2018</td>\n",
       "      <td>6/7/2018</td>\n",
       "      <td>USD</td>\n",
       "      <td>28</td>\n",
       "      <td>48</td>\n",
       "      <td>107</td>\n",
       "      <td>23</td>\n",
       "      <td>8</td>\n",
       "      <td>0.075</td>\n",
       "      <td>2324.9</td>\n",
       "      <td>1464.687</td>\n",
       "    </tr>\n",
       "    <tr>\n",
       "      <th>4</th>\n",
       "      <td>SO - 000105</td>\n",
       "      <td>Distributor</td>\n",
       "      <td>WARE-NMK1003</td>\n",
       "      <td>4/10/2018</td>\n",
       "      <td>5/31/2018</td>\n",
       "      <td>6/16/2018</td>\n",
       "      <td>6/26/2018</td>\n",
       "      <td>USD</td>\n",
       "      <td>22</td>\n",
       "      <td>49</td>\n",
       "      <td>111</td>\n",
       "      <td>26</td>\n",
       "      <td>8</td>\n",
       "      <td>0.100</td>\n",
       "      <td>1822.4</td>\n",
       "      <td>1476.144</td>\n",
       "    </tr>\n",
       "  </tbody>\n",
       "</table>\n",
       "</div>"
      ],
      "text/plain": [
       "   OrderNumber Sales Channel WarehouseCode ProcuredDate  OrderDate   ShipDate  \\\n",
       "0  SO - 000101      In-Store  WARE-UHY1004   12/31/2017  5/31/2018  6/14/2018   \n",
       "1  SO - 000102        Online  WARE-NMK1003   12/31/2017  5/31/2018  6/22/2018   \n",
       "2  SO - 000103   Distributor  WARE-UHY1004   12/31/2017  5/31/2018  6/21/2018   \n",
       "3  SO - 000104     Wholesale  WARE-NMK1003   12/31/2017  5/31/2018   6/2/2018   \n",
       "4  SO - 000105   Distributor  WARE-NMK1003    4/10/2018  5/31/2018  6/16/2018   \n",
       "\n",
       "  DeliveryDate CurrencyCode  _SalesTeamID  _CustomerID  _StoreID  _ProductID  \\\n",
       "0    6/19/2018          USD             6           15       259          12   \n",
       "1     7/2/2018          USD            14           20       196          27   \n",
       "2     7/1/2018          USD            21           16       213          16   \n",
       "3     6/7/2018          USD            28           48       107          23   \n",
       "4    6/26/2018          USD            22           49       111          26   \n",
       "\n",
       "   Order Quantity  Discount Applied  Unit Price  Unit Cost  \n",
       "0               5             0.075      1963.1   1001.181  \n",
       "1               3             0.075      3939.6   3348.660  \n",
       "2               1             0.050      1775.5    781.220  \n",
       "3               8             0.075      2324.9   1464.687  \n",
       "4               8             0.100      1822.4   1476.144  "
      ]
     },
     "execution_count": 161,
     "metadata": {},
     "output_type": "execute_result"
    }
   ],
   "source": [
    "sales_data.head()"
   ]
  },
  {
   "cell_type": "code",
   "execution_count": 162,
   "id": "4446acc2-49fe-4838-b74b-a48ae1ef55a2",
   "metadata": {},
   "outputs": [
    {
     "data": {
      "text/html": [
       "<div>\n",
       "<style scoped>\n",
       "    .dataframe tbody tr th:only-of-type {\n",
       "        vertical-align: middle;\n",
       "    }\n",
       "\n",
       "    .dataframe tbody tr th {\n",
       "        vertical-align: top;\n",
       "    }\n",
       "\n",
       "    .dataframe thead th {\n",
       "        text-align: right;\n",
       "    }\n",
       "</style>\n",
       "<table border=\"1\" class=\"dataframe\">\n",
       "  <thead>\n",
       "    <tr style=\"text-align: right;\">\n",
       "      <th></th>\n",
       "      <th>OrderNumber</th>\n",
       "      <th>Sales Channel</th>\n",
       "      <th>WarehouseCode</th>\n",
       "      <th>ProcuredDate</th>\n",
       "      <th>OrderDate</th>\n",
       "      <th>ShipDate</th>\n",
       "      <th>DeliveryDate</th>\n",
       "      <th>CurrencyCode</th>\n",
       "      <th>_SalesTeamID</th>\n",
       "      <th>_CustomerID</th>\n",
       "      <th>_StoreID</th>\n",
       "      <th>_ProductID</th>\n",
       "      <th>Order Quantity</th>\n",
       "      <th>Discount Applied</th>\n",
       "      <th>Unit Price</th>\n",
       "      <th>Unit Cost</th>\n",
       "    </tr>\n",
       "  </thead>\n",
       "  <tbody>\n",
       "    <tr>\n",
       "      <th>7986</th>\n",
       "      <td>SO - 0008087</td>\n",
       "      <td>In-Store</td>\n",
       "      <td>WARE-MKL1006</td>\n",
       "      <td>9/26/2020</td>\n",
       "      <td>12/30/2020</td>\n",
       "      <td>1/7/2021</td>\n",
       "      <td>1/14/2021</td>\n",
       "      <td>USD</td>\n",
       "      <td>9</td>\n",
       "      <td>41</td>\n",
       "      <td>339</td>\n",
       "      <td>29</td>\n",
       "      <td>1</td>\n",
       "      <td>0.075</td>\n",
       "      <td>234.5</td>\n",
       "      <td>121.940</td>\n",
       "    </tr>\n",
       "    <tr>\n",
       "      <th>7987</th>\n",
       "      <td>SO - 0008088</td>\n",
       "      <td>Online</td>\n",
       "      <td>WARE-NMK1003</td>\n",
       "      <td>9/26/2020</td>\n",
       "      <td>12/30/2020</td>\n",
       "      <td>1/2/2021</td>\n",
       "      <td>1/4/2021</td>\n",
       "      <td>USD</td>\n",
       "      <td>14</td>\n",
       "      <td>29</td>\n",
       "      <td>202</td>\n",
       "      <td>3</td>\n",
       "      <td>6</td>\n",
       "      <td>0.050</td>\n",
       "      <td>3202.6</td>\n",
       "      <td>1921.560</td>\n",
       "    </tr>\n",
       "    <tr>\n",
       "      <th>7988</th>\n",
       "      <td>SO - 0008089</td>\n",
       "      <td>Online</td>\n",
       "      <td>WARE-UHY1004</td>\n",
       "      <td>9/26/2020</td>\n",
       "      <td>12/30/2020</td>\n",
       "      <td>1/23/2021</td>\n",
       "      <td>1/26/2021</td>\n",
       "      <td>USD</td>\n",
       "      <td>14</td>\n",
       "      <td>32</td>\n",
       "      <td>241</td>\n",
       "      <td>35</td>\n",
       "      <td>5</td>\n",
       "      <td>0.200</td>\n",
       "      <td>3825.7</td>\n",
       "      <td>2792.761</td>\n",
       "    </tr>\n",
       "    <tr>\n",
       "      <th>7989</th>\n",
       "      <td>SO - 0008090</td>\n",
       "      <td>Online</td>\n",
       "      <td>WARE-NMK1003</td>\n",
       "      <td>9/26/2020</td>\n",
       "      <td>12/30/2020</td>\n",
       "      <td>1/20/2021</td>\n",
       "      <td>1/25/2021</td>\n",
       "      <td>USD</td>\n",
       "      <td>20</td>\n",
       "      <td>42</td>\n",
       "      <td>112</td>\n",
       "      <td>36</td>\n",
       "      <td>8</td>\n",
       "      <td>0.100</td>\n",
       "      <td>1072.0</td>\n",
       "      <td>804.000</td>\n",
       "    </tr>\n",
       "    <tr>\n",
       "      <th>7990</th>\n",
       "      <td>SO - 0008091</td>\n",
       "      <td>In-Store</td>\n",
       "      <td>WARE-UHY1004</td>\n",
       "      <td>9/26/2020</td>\n",
       "      <td>12/30/2020</td>\n",
       "      <td>1/13/2021</td>\n",
       "      <td>1/19/2021</td>\n",
       "      <td>USD</td>\n",
       "      <td>6</td>\n",
       "      <td>41</td>\n",
       "      <td>237</td>\n",
       "      <td>43</td>\n",
       "      <td>5</td>\n",
       "      <td>0.075</td>\n",
       "      <td>2211.0</td>\n",
       "      <td>1370.820</td>\n",
       "    </tr>\n",
       "  </tbody>\n",
       "</table>\n",
       "</div>"
      ],
      "text/plain": [
       "       OrderNumber Sales Channel WarehouseCode ProcuredDate   OrderDate  \\\n",
       "7986  SO - 0008087      In-Store  WARE-MKL1006    9/26/2020  12/30/2020   \n",
       "7987  SO - 0008088        Online  WARE-NMK1003    9/26/2020  12/30/2020   \n",
       "7988  SO - 0008089        Online  WARE-UHY1004    9/26/2020  12/30/2020   \n",
       "7989  SO - 0008090        Online  WARE-NMK1003    9/26/2020  12/30/2020   \n",
       "7990  SO - 0008091      In-Store  WARE-UHY1004    9/26/2020  12/30/2020   \n",
       "\n",
       "       ShipDate DeliveryDate CurrencyCode  _SalesTeamID  _CustomerID  \\\n",
       "7986   1/7/2021    1/14/2021          USD             9           41   \n",
       "7987   1/2/2021     1/4/2021          USD            14           29   \n",
       "7988  1/23/2021    1/26/2021          USD            14           32   \n",
       "7989  1/20/2021    1/25/2021          USD            20           42   \n",
       "7990  1/13/2021    1/19/2021          USD             6           41   \n",
       "\n",
       "      _StoreID  _ProductID  Order Quantity  Discount Applied  Unit Price  \\\n",
       "7986       339          29               1             0.075       234.5   \n",
       "7987       202           3               6             0.050      3202.6   \n",
       "7988       241          35               5             0.200      3825.7   \n",
       "7989       112          36               8             0.100      1072.0   \n",
       "7990       237          43               5             0.075      2211.0   \n",
       "\n",
       "      Unit Cost  \n",
       "7986    121.940  \n",
       "7987   1921.560  \n",
       "7988   2792.761  \n",
       "7989    804.000  \n",
       "7990   1370.820  "
      ]
     },
     "execution_count": 162,
     "metadata": {},
     "output_type": "execute_result"
    }
   ],
   "source": [
    "sales_data.tail()"
   ]
  },
  {
   "cell_type": "code",
   "execution_count": 163,
   "id": "ef8970da-d861-47f2-90e6-9030b6d0ee89",
   "metadata": {},
   "outputs": [
    {
     "name": "stdout",
     "output_type": "stream",
     "text": [
      "<class 'pandas.core.frame.DataFrame'>\n",
      "RangeIndex: 7991 entries, 0 to 7990\n",
      "Data columns (total 16 columns):\n",
      " #   Column            Non-Null Count  Dtype  \n",
      "---  ------            --------------  -----  \n",
      " 0   OrderNumber       7991 non-null   object \n",
      " 1   Sales Channel     7991 non-null   object \n",
      " 2   WarehouseCode     7991 non-null   object \n",
      " 3   ProcuredDate      7991 non-null   object \n",
      " 4   OrderDate         7991 non-null   object \n",
      " 5   ShipDate          7991 non-null   object \n",
      " 6   DeliveryDate      7991 non-null   object \n",
      " 7   CurrencyCode      7991 non-null   object \n",
      " 8   _SalesTeamID      7991 non-null   int64  \n",
      " 9   _CustomerID       7991 non-null   int64  \n",
      " 10  _StoreID          7991 non-null   int64  \n",
      " 11  _ProductID        7991 non-null   int64  \n",
      " 12  Order Quantity    7991 non-null   int64  \n",
      " 13  Discount Applied  7991 non-null   float64\n",
      " 14  Unit Price        7991 non-null   float64\n",
      " 15  Unit Cost         7991 non-null   float64\n",
      "dtypes: float64(3), int64(5), object(8)\n",
      "memory usage: 999.0+ KB\n"
     ]
    }
   ],
   "source": [
    "sales_data.info()"
   ]
  },
  {
   "cell_type": "markdown",
   "id": "dfcc42f6-a7af-4ea4-95cb-40b1e6d1f02f",
   "metadata": {},
   "source": [
    "## 2.2. Breve conclusões antes de partir para os próximos passos \n",
    "\n",
    "- Vou usar somente algumas colunas, portando vou criar um novo dataframe somente com elas;\n",
    "- Será necessário criar uma coluna para contabilizar o total de receita por pedido;\n",
    "- Será necessário mudar a coluna \"OrderDate\" para o dtype datetime;\n",
    "- O dataframe não possui dados nulos."
   ]
  },
  {
   "cell_type": "markdown",
   "id": "406df57b-6f51-4a9e-a2dd-32f2454caf61",
   "metadata": {},
   "source": [
    "# 3. Limpeza e manipulação dos dados"
   ]
  },
  {
   "cell_type": "markdown",
   "id": "59952dd4-3336-4bc3-b2e4-3c1b522c02de",
   "metadata": {},
   "source": [
    "## 3.1. Verificação de nulos e duplicatas "
   ]
  },
  {
   "cell_type": "code",
   "execution_count": 164,
   "id": "f31448f4-70ce-440d-834e-22a688b8a69f",
   "metadata": {},
   "outputs": [
    {
     "name": "stdout",
     "output_type": "stream",
     "text": [
      "O conjunto de dados tem 0 dados nulos.\n"
     ]
    }
   ],
   "source": [
    "print(f'O conjunto de dados tem {sales_data.isna().sum().sum()} dados nulos.')"
   ]
  },
  {
   "cell_type": "code",
   "execution_count": 165,
   "id": "4b7c98cf-ecbb-4939-93e8-f9e72df60abe",
   "metadata": {},
   "outputs": [
    {
     "name": "stdout",
     "output_type": "stream",
     "text": [
      "O conjunto de dados tem 0 dados duplicados.\n"
     ]
    }
   ],
   "source": [
    "print(f'O conjunto de dados tem {sales_data.duplicated().sum()} dados duplicados.')"
   ]
  },
  {
   "cell_type": "markdown",
   "id": "bc691334-967c-4740-8835-3161132cdf23",
   "metadata": {},
   "source": [
    "## 3.2. Manipulação dos dados e colunas"
   ]
  },
  {
   "cell_type": "code",
   "execution_count": 166,
   "id": "d1d71825-c03d-47cd-9a81-1b36c0c765bc",
   "metadata": {},
   "outputs": [
    {
     "data": {
      "text/html": [
       "<div>\n",
       "<style scoped>\n",
       "    .dataframe tbody tr th:only-of-type {\n",
       "        vertical-align: middle;\n",
       "    }\n",
       "\n",
       "    .dataframe tbody tr th {\n",
       "        vertical-align: top;\n",
       "    }\n",
       "\n",
       "    .dataframe thead th {\n",
       "        text-align: right;\n",
       "    }\n",
       "</style>\n",
       "<table border=\"1\" class=\"dataframe\">\n",
       "  <thead>\n",
       "    <tr style=\"text-align: right;\">\n",
       "      <th></th>\n",
       "      <th>_CustomerID</th>\n",
       "      <th>OrderDate</th>\n",
       "      <th>Order Quantity</th>\n",
       "      <th>Discount Applied</th>\n",
       "      <th>Unit Price</th>\n",
       "      <th>Unit Cost</th>\n",
       "    </tr>\n",
       "  </thead>\n",
       "  <tbody>\n",
       "    <tr>\n",
       "      <th>0</th>\n",
       "      <td>15</td>\n",
       "      <td>5/31/2018</td>\n",
       "      <td>5</td>\n",
       "      <td>0.075</td>\n",
       "      <td>1963.1</td>\n",
       "      <td>1001.181</td>\n",
       "    </tr>\n",
       "    <tr>\n",
       "      <th>1</th>\n",
       "      <td>20</td>\n",
       "      <td>5/31/2018</td>\n",
       "      <td>3</td>\n",
       "      <td>0.075</td>\n",
       "      <td>3939.6</td>\n",
       "      <td>3348.660</td>\n",
       "    </tr>\n",
       "    <tr>\n",
       "      <th>2</th>\n",
       "      <td>16</td>\n",
       "      <td>5/31/2018</td>\n",
       "      <td>1</td>\n",
       "      <td>0.050</td>\n",
       "      <td>1775.5</td>\n",
       "      <td>781.220</td>\n",
       "    </tr>\n",
       "    <tr>\n",
       "      <th>3</th>\n",
       "      <td>48</td>\n",
       "      <td>5/31/2018</td>\n",
       "      <td>8</td>\n",
       "      <td>0.075</td>\n",
       "      <td>2324.9</td>\n",
       "      <td>1464.687</td>\n",
       "    </tr>\n",
       "    <tr>\n",
       "      <th>4</th>\n",
       "      <td>49</td>\n",
       "      <td>5/31/2018</td>\n",
       "      <td>8</td>\n",
       "      <td>0.100</td>\n",
       "      <td>1822.4</td>\n",
       "      <td>1476.144</td>\n",
       "    </tr>\n",
       "  </tbody>\n",
       "</table>\n",
       "</div>"
      ],
      "text/plain": [
       "   _CustomerID  OrderDate  Order Quantity  Discount Applied  Unit Price  \\\n",
       "0           15  5/31/2018               5             0.075      1963.1   \n",
       "1           20  5/31/2018               3             0.075      3939.6   \n",
       "2           16  5/31/2018               1             0.050      1775.5   \n",
       "3           48  5/31/2018               8             0.075      2324.9   \n",
       "4           49  5/31/2018               8             0.100      1822.4   \n",
       "\n",
       "   Unit Cost  \n",
       "0   1001.181  \n",
       "1   3348.660  \n",
       "2    781.220  \n",
       "3   1464.687  \n",
       "4   1476.144  "
      ]
     },
     "execution_count": 166,
     "metadata": {},
     "output_type": "execute_result"
    }
   ],
   "source": [
    "# Criando o dataframe somente com as colunas que vão ser utilizadas\n",
    "cols = [\"_CustomerID\", \"OrderDate\", \"Order Quantity\", \"Discount Applied\", \"Unit Price\", \"Unit Cost\"]\n",
    "df = sales_data[cols].copy()\n",
    "df.head()"
   ]
  },
  {
   "cell_type": "code",
   "execution_count": 167,
   "id": "ff2a54ec-743c-4cce-b8eb-513e19d3f7e7",
   "metadata": {},
   "outputs": [
    {
     "data": {
      "text/html": [
       "<div>\n",
       "<style scoped>\n",
       "    .dataframe tbody tr th:only-of-type {\n",
       "        vertical-align: middle;\n",
       "    }\n",
       "\n",
       "    .dataframe tbody tr th {\n",
       "        vertical-align: top;\n",
       "    }\n",
       "\n",
       "    .dataframe thead th {\n",
       "        text-align: right;\n",
       "    }\n",
       "</style>\n",
       "<table border=\"1\" class=\"dataframe\">\n",
       "  <thead>\n",
       "    <tr style=\"text-align: right;\">\n",
       "      <th></th>\n",
       "      <th>_CustomerID</th>\n",
       "      <th>OrderDate</th>\n",
       "      <th>Order Quantity</th>\n",
       "      <th>Discount Applied</th>\n",
       "      <th>Unit Price</th>\n",
       "      <th>Unit Cost</th>\n",
       "    </tr>\n",
       "  </thead>\n",
       "  <tbody>\n",
       "    <tr>\n",
       "      <th>0</th>\n",
       "      <td>15</td>\n",
       "      <td>2018-05-31</td>\n",
       "      <td>5</td>\n",
       "      <td>0.075</td>\n",
       "      <td>1963.1</td>\n",
       "      <td>1001.181</td>\n",
       "    </tr>\n",
       "    <tr>\n",
       "      <th>1</th>\n",
       "      <td>20</td>\n",
       "      <td>2018-05-31</td>\n",
       "      <td>3</td>\n",
       "      <td>0.075</td>\n",
       "      <td>3939.6</td>\n",
       "      <td>3348.660</td>\n",
       "    </tr>\n",
       "    <tr>\n",
       "      <th>2</th>\n",
       "      <td>16</td>\n",
       "      <td>2018-05-31</td>\n",
       "      <td>1</td>\n",
       "      <td>0.050</td>\n",
       "      <td>1775.5</td>\n",
       "      <td>781.220</td>\n",
       "    </tr>\n",
       "    <tr>\n",
       "      <th>3</th>\n",
       "      <td>48</td>\n",
       "      <td>2018-05-31</td>\n",
       "      <td>8</td>\n",
       "      <td>0.075</td>\n",
       "      <td>2324.9</td>\n",
       "      <td>1464.687</td>\n",
       "    </tr>\n",
       "    <tr>\n",
       "      <th>4</th>\n",
       "      <td>49</td>\n",
       "      <td>2018-05-31</td>\n",
       "      <td>8</td>\n",
       "      <td>0.100</td>\n",
       "      <td>1822.4</td>\n",
       "      <td>1476.144</td>\n",
       "    </tr>\n",
       "  </tbody>\n",
       "</table>\n",
       "</div>"
      ],
      "text/plain": [
       "   _CustomerID  OrderDate  Order Quantity  Discount Applied  Unit Price  \\\n",
       "0           15 2018-05-31               5             0.075      1963.1   \n",
       "1           20 2018-05-31               3             0.075      3939.6   \n",
       "2           16 2018-05-31               1             0.050      1775.5   \n",
       "3           48 2018-05-31               8             0.075      2324.9   \n",
       "4           49 2018-05-31               8             0.100      1822.4   \n",
       "\n",
       "   Unit Cost  \n",
       "0   1001.181  \n",
       "1   3348.660  \n",
       "2    781.220  \n",
       "3   1464.687  \n",
       "4   1476.144  "
      ]
     },
     "execution_count": 167,
     "metadata": {},
     "output_type": "execute_result"
    }
   ],
   "source": [
    "# Ajustando Order Date para datetime\n",
    "df[\"OrderDate\"] = pd.to_datetime(df[\"OrderDate\"])\n",
    "df.head()"
   ]
  },
  {
   "cell_type": "code",
   "execution_count": 168,
   "id": "df1a0177-20c2-4042-9bd0-64d1cbee6700",
   "metadata": {},
   "outputs": [
    {
     "data": {
      "text/html": [
       "<div>\n",
       "<style scoped>\n",
       "    .dataframe tbody tr th:only-of-type {\n",
       "        vertical-align: middle;\n",
       "    }\n",
       "\n",
       "    .dataframe tbody tr th {\n",
       "        vertical-align: top;\n",
       "    }\n",
       "\n",
       "    .dataframe thead th {\n",
       "        text-align: right;\n",
       "    }\n",
       "</style>\n",
       "<table border=\"1\" class=\"dataframe\">\n",
       "  <thead>\n",
       "    <tr style=\"text-align: right;\">\n",
       "      <th></th>\n",
       "      <th>_CustomerID</th>\n",
       "      <th>OrderDate</th>\n",
       "      <th>Order Quantity</th>\n",
       "      <th>Discount Applied</th>\n",
       "      <th>Unit Price</th>\n",
       "      <th>Unit Cost</th>\n",
       "      <th>Revenue</th>\n",
       "    </tr>\n",
       "  </thead>\n",
       "  <tbody>\n",
       "    <tr>\n",
       "      <th>0</th>\n",
       "      <td>15</td>\n",
       "      <td>2018-05-31</td>\n",
       "      <td>5</td>\n",
       "      <td>0.075</td>\n",
       "      <td>1963.1</td>\n",
       "      <td>1001.181</td>\n",
       "      <td>4073.4325</td>\n",
       "    </tr>\n",
       "    <tr>\n",
       "      <th>1</th>\n",
       "      <td>20</td>\n",
       "      <td>2018-05-31</td>\n",
       "      <td>3</td>\n",
       "      <td>0.075</td>\n",
       "      <td>3939.6</td>\n",
       "      <td>3348.660</td>\n",
       "      <td>886.4100</td>\n",
       "    </tr>\n",
       "    <tr>\n",
       "      <th>2</th>\n",
       "      <td>16</td>\n",
       "      <td>2018-05-31</td>\n",
       "      <td>1</td>\n",
       "      <td>0.050</td>\n",
       "      <td>1775.5</td>\n",
       "      <td>781.220</td>\n",
       "      <td>905.5050</td>\n",
       "    </tr>\n",
       "    <tr>\n",
       "      <th>3</th>\n",
       "      <td>48</td>\n",
       "      <td>2018-05-31</td>\n",
       "      <td>8</td>\n",
       "      <td>0.075</td>\n",
       "      <td>2324.9</td>\n",
       "      <td>1464.687</td>\n",
       "      <td>5486.7640</td>\n",
       "    </tr>\n",
       "    <tr>\n",
       "      <th>4</th>\n",
       "      <td>49</td>\n",
       "      <td>2018-05-31</td>\n",
       "      <td>8</td>\n",
       "      <td>0.100</td>\n",
       "      <td>1822.4</td>\n",
       "      <td>1476.144</td>\n",
       "      <td>1312.1280</td>\n",
       "    </tr>\n",
       "  </tbody>\n",
       "</table>\n",
       "</div>"
      ],
      "text/plain": [
       "   _CustomerID  OrderDate  Order Quantity  Discount Applied  Unit Price  \\\n",
       "0           15 2018-05-31               5             0.075      1963.1   \n",
       "1           20 2018-05-31               3             0.075      3939.6   \n",
       "2           16 2018-05-31               1             0.050      1775.5   \n",
       "3           48 2018-05-31               8             0.075      2324.9   \n",
       "4           49 2018-05-31               8             0.100      1822.4   \n",
       "\n",
       "   Unit Cost    Revenue  \n",
       "0   1001.181  4073.4325  \n",
       "1   3348.660   886.4100  \n",
       "2    781.220   905.5050  \n",
       "3   1464.687  5486.7640  \n",
       "4   1476.144  1312.1280  "
      ]
     },
     "execution_count": 168,
     "metadata": {},
     "output_type": "execute_result"
    }
   ],
   "source": [
    "# Criando a coluna de Revenue\n",
    "df[\"Revenue\"] = ((df[\"Unit Price\"] - (df[\"Unit Price\"] * df[\"Discount Applied\"]) - df[\"Unit Cost\"])) * df[\"Order Quantity\"]\n",
    "df.head()"
   ]
  },
  {
   "cell_type": "code",
   "execution_count": 169,
   "id": "538c5fbd-32df-4caf-8daf-d2c009a37444",
   "metadata": {},
   "outputs": [],
   "source": [
    "# Salvando este dataframe em um novo csv\n",
    "df.to_csv(\"../data/ready/dados_modificados.csv\")"
   ]
  },
  {
   "cell_type": "markdown",
   "id": "9776b000-dd09-4468-bd1b-403c61d333e2",
   "metadata": {},
   "source": [
    "# 4. Aplicação do KMeans"
   ]
  },
  {
   "cell_type": "markdown",
   "id": "b2e877a8-3f64-4b62-b144-a8c600a33334",
   "metadata": {},
   "source": [
    "## 4.1. Ajuste do dados\n",
    "\n",
    "Antes de prosseguir com a análise primeiro será necessário ajustar os dados e criar um dataset para a análise RFV e a aplicação do KMeans"
   ]
  },
  {
   "cell_type": "code",
   "execution_count": 170,
   "id": "2f35d581-e802-4aa3-8973-65afe1d2d7d5",
   "metadata": {},
   "outputs": [
    {
     "data": {
      "text/html": [
       "<div>\n",
       "<style scoped>\n",
       "    .dataframe tbody tr th:only-of-type {\n",
       "        vertical-align: middle;\n",
       "    }\n",
       "\n",
       "    .dataframe tbody tr th {\n",
       "        vertical-align: top;\n",
       "    }\n",
       "\n",
       "    .dataframe thead th {\n",
       "        text-align: right;\n",
       "    }\n",
       "</style>\n",
       "<table border=\"1\" class=\"dataframe\">\n",
       "  <thead>\n",
       "    <tr style=\"text-align: right;\">\n",
       "      <th></th>\n",
       "      <th>_CustomerID</th>\n",
       "      <th>OrderDate</th>\n",
       "    </tr>\n",
       "  </thead>\n",
       "  <tbody>\n",
       "    <tr>\n",
       "      <th>0</th>\n",
       "      <td>1</td>\n",
       "      <td>2020-12-23</td>\n",
       "    </tr>\n",
       "    <tr>\n",
       "      <th>1</th>\n",
       "      <td>2</td>\n",
       "      <td>2020-12-23</td>\n",
       "    </tr>\n",
       "    <tr>\n",
       "      <th>2</th>\n",
       "      <td>3</td>\n",
       "      <td>2020-12-22</td>\n",
       "    </tr>\n",
       "    <tr>\n",
       "      <th>3</th>\n",
       "      <td>4</td>\n",
       "      <td>2020-12-27</td>\n",
       "    </tr>\n",
       "    <tr>\n",
       "      <th>4</th>\n",
       "      <td>5</td>\n",
       "      <td>2020-12-02</td>\n",
       "    </tr>\n",
       "  </tbody>\n",
       "</table>\n",
       "</div>"
      ],
      "text/plain": [
       "   _CustomerID  OrderDate\n",
       "0            1 2020-12-23\n",
       "1            2 2020-12-23\n",
       "2            3 2020-12-22\n",
       "3            4 2020-12-27\n",
       "4            5 2020-12-02"
      ]
     },
     "execution_count": 170,
     "metadata": {},
     "output_type": "execute_result"
    }
   ],
   "source": [
    "# Recência\n",
    "\n",
    "df_recencia = (\n",
    "    df[[\"_CustomerID\", \"OrderDate\"]]\n",
    "    .groupby(\"_CustomerID\")[\"OrderDate\"]\n",
    "    .agg(\"max\")\n",
    "    .reset_index()\n",
    ")\n",
    "\n",
    "df_recencia.head()"
   ]
  },
  {
   "cell_type": "markdown",
   "id": "893ca28d-65b9-45e3-8b59-96c59e778d99",
   "metadata": {},
   "source": [
    "Agrupando o \"_CustomerID\" por \"OrderDate\" agregado por seu valor máximo, é possível identificar a data da última compra do cliente. O próximo passo é calcular a recência em dias."
   ]
  },
  {
   "cell_type": "code",
   "execution_count": 171,
   "id": "f0465daf-dbac-407e-8c01-4010b0fd501c",
   "metadata": {},
   "outputs": [],
   "source": [
    "cur_time = df_recencia[\"OrderDate\"].max()\n",
    "\n",
    "def days_diff(cur_time, datetime_val):\n",
    "    return (cur_time - datetime_val).days"
   ]
  },
  {
   "cell_type": "code",
   "execution_count": 172,
   "id": "939abdb1-abf3-45d2-9ec6-c1bc7a3f9e10",
   "metadata": {},
   "outputs": [
    {
     "data": {
      "text/html": [
       "<div>\n",
       "<style scoped>\n",
       "    .dataframe tbody tr th:only-of-type {\n",
       "        vertical-align: middle;\n",
       "    }\n",
       "\n",
       "    .dataframe tbody tr th {\n",
       "        vertical-align: top;\n",
       "    }\n",
       "\n",
       "    .dataframe thead th {\n",
       "        text-align: right;\n",
       "    }\n",
       "</style>\n",
       "<table border=\"1\" class=\"dataframe\">\n",
       "  <thead>\n",
       "    <tr style=\"text-align: right;\">\n",
       "      <th></th>\n",
       "      <th>_CustomerID</th>\n",
       "      <th>OrderDate</th>\n",
       "      <th>Recencia</th>\n",
       "    </tr>\n",
       "  </thead>\n",
       "  <tbody>\n",
       "    <tr>\n",
       "      <th>0</th>\n",
       "      <td>1</td>\n",
       "      <td>2020-12-23</td>\n",
       "      <td>7</td>\n",
       "    </tr>\n",
       "    <tr>\n",
       "      <th>1</th>\n",
       "      <td>2</td>\n",
       "      <td>2020-12-23</td>\n",
       "      <td>7</td>\n",
       "    </tr>\n",
       "    <tr>\n",
       "      <th>2</th>\n",
       "      <td>3</td>\n",
       "      <td>2020-12-22</td>\n",
       "      <td>8</td>\n",
       "    </tr>\n",
       "    <tr>\n",
       "      <th>3</th>\n",
       "      <td>4</td>\n",
       "      <td>2020-12-27</td>\n",
       "      <td>3</td>\n",
       "    </tr>\n",
       "    <tr>\n",
       "      <th>4</th>\n",
       "      <td>5</td>\n",
       "      <td>2020-12-02</td>\n",
       "      <td>28</td>\n",
       "    </tr>\n",
       "  </tbody>\n",
       "</table>\n",
       "</div>"
      ],
      "text/plain": [
       "   _CustomerID  OrderDate  Recencia\n",
       "0            1 2020-12-23         7\n",
       "1            2 2020-12-23         7\n",
       "2            3 2020-12-22         8\n",
       "3            4 2020-12-27         3\n",
       "4            5 2020-12-02        28"
      ]
     },
     "execution_count": 172,
     "metadata": {},
     "output_type": "execute_result"
    }
   ],
   "source": [
    "df_recencia[\"Recencia\"] = df_recencia[\"OrderDate\"].apply(lambda datetime_val: days_diff(cur_time, datetime_val))\n",
    "df_recencia.head()"
   ]
  },
  {
   "cell_type": "code",
   "execution_count": 173,
   "id": "fe4cb98a-4761-40ce-a1aa-9e2522771a6e",
   "metadata": {},
   "outputs": [],
   "source": [
    "# Removendo \"OrderDate\"\n",
    "\n",
    "df_recencia = df_recencia.drop(\"OrderDate\", axis = 1)"
   ]
  },
  {
   "cell_type": "markdown",
   "id": "dfe3753a-4fb7-4257-9ba4-503ec63e2a15",
   "metadata": {},
   "source": [
    "Vamos visualizar algumas coisas sobre a recência"
   ]
  },
  {
   "cell_type": "code",
   "execution_count": 174,
   "id": "1b8e8482-7f57-4670-9190-732c72a0e96b",
   "metadata": {},
   "outputs": [
    {
     "data": {
      "text/plain": [
       "count    50.000000\n",
       "mean      5.100000\n",
       "std       5.395576\n",
       "min       0.000000\n",
       "25%       2.000000\n",
       "50%       3.000000\n",
       "75%       7.000000\n",
       "max      28.000000\n",
       "Name: Recencia, dtype: float64"
      ]
     },
     "execution_count": 174,
     "metadata": {},
     "output_type": "execute_result"
    }
   ],
   "source": [
    "df_recencia[\"Recencia\"].describe()"
   ]
  },
  {
   "cell_type": "code",
   "execution_count": 175,
   "id": "ae6ce2ff-ff82-443d-9d9a-8fecc7d4d615",
   "metadata": {},
   "outputs": [
    {
     "data": {
      "image/png": "[encoded data removed]",
      "text/plain": [
       "<Figure size 640x480 with 1 Axes>"
      ]
     },
     "metadata": {},
     "output_type": "display_data"
    }
   ],
   "source": [
    "sns.histplot(df_recencia, x = \"Recencia\", kde = True, color = \"darkred\")\n",
    "plt.title(\"Histograma da Recência\")\n",
    "plt.xlabel(\"Recência\")\n",
    "plt.ylabel(\"Contagem\")\n",
    "plt.show()"
   ]
  },
  {
   "cell_type": "markdown",
   "id": "89486a33-a558-4e5f-bb3f-36fabf27d408",
   "metadata": {},
   "source": [
    "Os valores de recência mais recorrentes estão entre 0 e 5 dias, mas temos clientes que estão até com de 25 dias sem realizar nenhuma compra na empresa, provavelmente estes estão em um ponto de churn, ou seja, de abandonar a empresa, vale ressaltar que é natural que ao longo do tempo o número de de compras caia. Agora vamos processeguir para Frequência e Valor. "
   ]
  },
  {
   "cell_type": "code",
   "execution_count": 176,
   "id": "375b8635-6fc1-41e3-9e63-ce1280ef97a4",
   "metadata": {},
   "outputs": [
    {
     "data": {
      "text/html": [
       "<div>\n",
       "<style scoped>\n",
       "    .dataframe tbody tr th:only-of-type {\n",
       "        vertical-align: middle;\n",
       "    }\n",
       "\n",
       "    .dataframe tbody tr th {\n",
       "        vertical-align: top;\n",
       "    }\n",
       "\n",
       "    .dataframe thead th {\n",
       "        text-align: right;\n",
       "    }\n",
       "</style>\n",
       "<table border=\"1\" class=\"dataframe\">\n",
       "  <thead>\n",
       "    <tr style=\"text-align: right;\">\n",
       "      <th></th>\n",
       "      <th>_CustomerID</th>\n",
       "      <th>Frequencia</th>\n",
       "      <th>Valor</th>\n",
       "    </tr>\n",
       "  </thead>\n",
       "  <tbody>\n",
       "    <tr>\n",
       "      <th>0</th>\n",
       "      <td>1</td>\n",
       "      <td>152</td>\n",
       "      <td>2210.09</td>\n",
       "    </tr>\n",
       "    <tr>\n",
       "      <th>1</th>\n",
       "      <td>2</td>\n",
       "      <td>135</td>\n",
       "      <td>2425.25</td>\n",
       "    </tr>\n",
       "    <tr>\n",
       "      <th>2</th>\n",
       "      <td>3</td>\n",
       "      <td>181</td>\n",
       "      <td>2575.80</td>\n",
       "    </tr>\n",
       "    <tr>\n",
       "      <th>3</th>\n",
       "      <td>4</td>\n",
       "      <td>167</td>\n",
       "      <td>3155.58</td>\n",
       "    </tr>\n",
       "    <tr>\n",
       "      <th>4</th>\n",
       "      <td>5</td>\n",
       "      <td>159</td>\n",
       "      <td>2802.72</td>\n",
       "    </tr>\n",
       "  </tbody>\n",
       "</table>\n",
       "</div>"
      ],
      "text/plain": [
       "   _CustomerID  Frequencia    Valor\n",
       "0            1         152  2210.09\n",
       "1            2         135  2425.25\n",
       "2            3         181  2575.80\n",
       "3            4         167  3155.58\n",
       "4            5         159  2802.72"
      ]
     },
     "execution_count": 176,
     "metadata": {},
     "output_type": "execute_result"
    }
   ],
   "source": [
    "df_fv = df[[\"_CustomerID\", \"Order Quantity\", \"Revenue\"]]\n",
    "\n",
    "df_fv = (\n",
    "    df_fv.groupby(\"_CustomerID\")[[\"Order Quantity\", \"Revenue\"]]\n",
    "    .agg({\"Order Quantity\": \"count\", \"Revenue\": \"mean\"})\n",
    "    .reset_index()\n",
    ")\n",
    "\n",
    "df_fv = df_fv.rename(columns = {\"Order Quantity\": \"Frequencia\", \n",
    "                                \"Revenue\": \"Valor\"})\n",
    "\n",
    "df_fv[\"Valor\"] = df_fv[\"Valor\"].round(2)\n",
    "\n",
    "df_fv.head()"
   ]
  },
  {
   "cell_type": "markdown",
   "id": "825c16f2-8fcf-4dcb-8deb-d8d7ec78ec08",
   "metadata": {},
   "source": [
    "Agrupando \"_CustomerID\" pela contagem de \"Order Quantity\" foi possível contar quantas vezes cada ID realizou uma compra ou seja a Frequência, e agrupando pela média de \"Revenue\" conseguimos nosso Valor monetário. Com isso o próximo passo é unir os dataframes."
   ]
  },
  {
   "cell_type": "code",
   "execution_count": 177,
   "id": "f570bcb7-3843-4ef0-be4e-64c65e4a9a97",
   "metadata": {},
   "outputs": [
    {
     "data": {
      "text/html": [
       "<div>\n",
       "<style scoped>\n",
       "    .dataframe tbody tr th:only-of-type {\n",
       "        vertical-align: middle;\n",
       "    }\n",
       "\n",
       "    .dataframe tbody tr th {\n",
       "        vertical-align: top;\n",
       "    }\n",
       "\n",
       "    .dataframe thead th {\n",
       "        text-align: right;\n",
       "    }\n",
       "</style>\n",
       "<table border=\"1\" class=\"dataframe\">\n",
       "  <thead>\n",
       "    <tr style=\"text-align: right;\">\n",
       "      <th></th>\n",
       "      <th>_CustomerID</th>\n",
       "      <th>Recencia</th>\n",
       "      <th>Frequencia</th>\n",
       "      <th>Valor</th>\n",
       "    </tr>\n",
       "  </thead>\n",
       "  <tbody>\n",
       "    <tr>\n",
       "      <th>0</th>\n",
       "      <td>1</td>\n",
       "      <td>7</td>\n",
       "      <td>152</td>\n",
       "      <td>2210.09</td>\n",
       "    </tr>\n",
       "    <tr>\n",
       "      <th>1</th>\n",
       "      <td>2</td>\n",
       "      <td>7</td>\n",
       "      <td>135</td>\n",
       "      <td>2425.25</td>\n",
       "    </tr>\n",
       "    <tr>\n",
       "      <th>2</th>\n",
       "      <td>3</td>\n",
       "      <td>8</td>\n",
       "      <td>181</td>\n",
       "      <td>2575.80</td>\n",
       "    </tr>\n",
       "    <tr>\n",
       "      <th>3</th>\n",
       "      <td>4</td>\n",
       "      <td>3</td>\n",
       "      <td>167</td>\n",
       "      <td>3155.58</td>\n",
       "    </tr>\n",
       "    <tr>\n",
       "      <th>4</th>\n",
       "      <td>5</td>\n",
       "      <td>28</td>\n",
       "      <td>159</td>\n",
       "      <td>2802.72</td>\n",
       "    </tr>\n",
       "  </tbody>\n",
       "</table>\n",
       "</div>"
      ],
      "text/plain": [
       "   _CustomerID  Recencia  Frequencia    Valor\n",
       "0            1         7         152  2210.09\n",
       "1            2         7         135  2425.25\n",
       "2            3         8         181  2575.80\n",
       "3            4         3         167  3155.58\n",
       "4            5        28         159  2802.72"
      ]
     },
     "execution_count": 177,
     "metadata": {},
     "output_type": "execute_result"
    }
   ],
   "source": [
    "df_rfv = df_recencia.merge(df_fv, on = \"_CustomerID\", how = \"left\")\n",
    "df_rfv = df_rfv.fillna(0)\n",
    "df_rfv.head()"
   ]
  },
  {
   "cell_type": "code",
   "execution_count": 178,
   "id": "6f5bb34d-9eaf-4460-a37e-897a5ddee171",
   "metadata": {},
   "outputs": [
    {
     "data": {
      "image/png": "[encoded data removed]",
      "text/plain": [
       "<Figure size 640x480 with 1 Axes>"
      ]
     },
     "metadata": {},
     "output_type": "display_data"
    }
   ],
   "source": [
    "sns.histplot(df_rfv, x = \"Frequencia\", kde = True, color = \"slateblue\")\n",
    "plt.title(\"Histograma da Frequência\")\n",
    "plt.xlabel(\"Frequência\")\n",
    "plt.ylabel(\"Contagem\")\n",
    "plt.show()"
   ]
  },
  {
   "cell_type": "code",
   "execution_count": 179,
   "id": "0f6eb9d8-28ce-4d1a-a881-830f1406fda0",
   "metadata": {},
   "outputs": [
    {
     "data": {
      "image/png": "[encoded data removed]",
      "text/plain": [
       "<Figure size 640x480 with 1 Axes>"
      ]
     },
     "metadata": {},
     "output_type": "display_data"
    }
   ],
   "source": [
    "sns.histplot(df_rfv, x = \"Valor\", kde = True, color = \"seagreen\")\n",
    "plt.title(\"Histograma do Valor\")\n",
    "plt.xlabel(\"Valor\")\n",
    "plt.ylabel(\"Contagem\")\n",
    "plt.show()"
   ]
  },
  {
   "cell_type": "code",
   "execution_count": 180,
   "id": "bc126cb9-e4c0-46de-856f-42246f18f682",
   "metadata": {},
   "outputs": [
    {
     "data": {
      "text/html": [
       "<div>\n",
       "<style scoped>\n",
       "    .dataframe tbody tr th:only-of-type {\n",
       "        vertical-align: middle;\n",
       "    }\n",
       "\n",
       "    .dataframe tbody tr th {\n",
       "        vertical-align: top;\n",
       "    }\n",
       "\n",
       "    .dataframe thead th {\n",
       "        text-align: right;\n",
       "    }\n",
       "</style>\n",
       "<table border=\"1\" class=\"dataframe\">\n",
       "  <thead>\n",
       "    <tr style=\"text-align: right;\">\n",
       "      <th></th>\n",
       "      <th>_CustomerID</th>\n",
       "      <th>Recencia</th>\n",
       "      <th>Frequencia</th>\n",
       "      <th>Valor</th>\n",
       "    </tr>\n",
       "  </thead>\n",
       "  <tbody>\n",
       "    <tr>\n",
       "      <th>count</th>\n",
       "      <td>50.00000</td>\n",
       "      <td>50.000000</td>\n",
       "      <td>50.00000</td>\n",
       "      <td>50.00000</td>\n",
       "    </tr>\n",
       "    <tr>\n",
       "      <th>mean</th>\n",
       "      <td>25.50000</td>\n",
       "      <td>5.100000</td>\n",
       "      <td>159.82000</td>\n",
       "      <td>2663.37080</td>\n",
       "    </tr>\n",
       "    <tr>\n",
       "      <th>std</th>\n",
       "      <td>14.57738</td>\n",
       "      <td>5.395576</td>\n",
       "      <td>14.23088</td>\n",
       "      <td>251.29131</td>\n",
       "    </tr>\n",
       "    <tr>\n",
       "      <th>min</th>\n",
       "      <td>1.00000</td>\n",
       "      <td>0.000000</td>\n",
       "      <td>135.00000</td>\n",
       "      <td>2210.09000</td>\n",
       "    </tr>\n",
       "    <tr>\n",
       "      <th>25%</th>\n",
       "      <td>13.25000</td>\n",
       "      <td>2.000000</td>\n",
       "      <td>151.25000</td>\n",
       "      <td>2436.21250</td>\n",
       "    </tr>\n",
       "    <tr>\n",
       "      <th>50%</th>\n",
       "      <td>25.50000</td>\n",
       "      <td>3.000000</td>\n",
       "      <td>157.50000</td>\n",
       "      <td>2666.38000</td>\n",
       "    </tr>\n",
       "    <tr>\n",
       "      <th>75%</th>\n",
       "      <td>37.75000</td>\n",
       "      <td>7.000000</td>\n",
       "      <td>167.75000</td>\n",
       "      <td>2826.41750</td>\n",
       "    </tr>\n",
       "    <tr>\n",
       "      <th>max</th>\n",
       "      <td>50.00000</td>\n",
       "      <td>28.000000</td>\n",
       "      <td>210.00000</td>\n",
       "      <td>3175.92000</td>\n",
       "    </tr>\n",
       "  </tbody>\n",
       "</table>\n",
       "</div>"
      ],
      "text/plain": [
       "       _CustomerID   Recencia  Frequencia       Valor\n",
       "count     50.00000  50.000000    50.00000    50.00000\n",
       "mean      25.50000   5.100000   159.82000  2663.37080\n",
       "std       14.57738   5.395576    14.23088   251.29131\n",
       "min        1.00000   0.000000   135.00000  2210.09000\n",
       "25%       13.25000   2.000000   151.25000  2436.21250\n",
       "50%       25.50000   3.000000   157.50000  2666.38000\n",
       "75%       37.75000   7.000000   167.75000  2826.41750\n",
       "max       50.00000  28.000000   210.00000  3175.92000"
      ]
     },
     "execution_count": 180,
     "metadata": {},
     "output_type": "execute_result"
    }
   ],
   "source": [
    "df_rfv.describe()"
   ]
  },
  {
   "cell_type": "markdown",
   "id": "08beb9f4-29ab-492f-aa14-7bd375bfe446",
   "metadata": {},
   "source": [
    "A maior diferença entre os clientes está na recência e frequência de compras, os valores gastos na empresa estão em médias próximas. "
   ]
  },
  {
   "cell_type": "markdown",
   "id": "d39723e0-9355-476c-82c6-7a5440220658",
   "metadata": {},
   "source": [
    "## 4.2. Pré-processamento dos dados e definição do número de clusters"
   ]
  },
  {
   "cell_type": "markdown",
   "id": "330c6213-4c02-427c-84d3-bfc14c5e76b8",
   "metadata": {},
   "source": [
    "### Utilizando o StandardScaler para deixar os dados na mesma escala"
   ]
  },
  {
   "cell_type": "code",
   "execution_count": 181,
   "id": "074d1065-e88b-403b-9c95-f53e5b9eed40",
   "metadata": {},
   "outputs": [],
   "source": [
    "from sklearn.preprocessing import StandardScaler\n",
    "\n",
    "feature_cols = [\"Recencia\", \"Frequencia\", \"Valor\"]\n",
    "\n",
    "standardized_data = df_rfv.copy()\n",
    "\n",
    "scaler = StandardScaler()\n",
    "\n",
    "scaler.fit(df_rfv[feature_cols])\n",
    "\n",
    "standardized_features = scaler.transform(df_rfv[feature_cols])\n",
    "standardized_data[feature_cols] = standardized_features"
   ]
  },
  {
   "cell_type": "markdown",
   "id": "0aad57c2-2add-4e12-9818-0d1cb68926ef",
   "metadata": {},
   "source": [
    "### Definindo o número de Clusters através do método do \"cotovelo\""
   ]
  },
  {
   "cell_type": "code",
   "execution_count": 182,
   "id": "6de43860-027d-4085-98c7-e4b39e72b4a1",
   "metadata": {},
   "outputs": [
    {
     "data": {
      "image/png": "[encoded data removed]",
      "text/plain": [
       "<Figure size 640x480 with 1 Axes>"
      ]
     },
     "metadata": {},
     "output_type": "display_data"
    }
   ],
   "source": [
    "from sklearn.cluster import KMeans\n",
    "\n",
    "X = standardized_data.iloc[:, [1, 2, 3]].values\n",
    "wcss = []\n",
    "for i in range(1, 16):\n",
    "    kmeans = KMeans(n_clusters = i, init = \"k-means++\", random_state = 21)\n",
    "    kmeans.fit(X)\n",
    "    wcss.append(kmeans.inertia_)\n",
    "\n",
    "plt.plot(range(1, 16), wcss)\n",
    "plt.xlabel(\"Number of Clusters\")\n",
    "plt.ylabel(\"WCSS\")\n",
    "plt.show()"
   ]
  },
  {
   "cell_type": "markdown",
   "id": "341b574a-9754-46ea-88ea-38dfb30f0e8e",
   "metadata": {},
   "source": [
    "O \"cotovelo\" da nossa curva indica que devemos utilizar 4 clusters. "
   ]
  },
  {
   "cell_type": "markdown",
   "id": "3df8ad38-603b-4063-aaf4-a2a729e863e3",
   "metadata": {},
   "source": [
    "## 4.3. Aplicando a clusterização através do KMeans"
   ]
  },
  {
   "cell_type": "code",
   "execution_count": 183,
   "id": "fc522fb2-053a-407a-948d-6bab48595461",
   "metadata": {},
   "outputs": [
    {
     "data": {
      "text/html": [
       "<div>\n",
       "<style scoped>\n",
       "    .dataframe tbody tr th:only-of-type {\n",
       "        vertical-align: middle;\n",
       "    }\n",
       "\n",
       "    .dataframe tbody tr th {\n",
       "        vertical-align: top;\n",
       "    }\n",
       "\n",
       "    .dataframe thead th {\n",
       "        text-align: right;\n",
       "    }\n",
       "</style>\n",
       "<table border=\"1\" class=\"dataframe\">\n",
       "  <thead>\n",
       "    <tr style=\"text-align: right;\">\n",
       "      <th></th>\n",
       "      <th>_CustomerID</th>\n",
       "      <th>Recencia</th>\n",
       "      <th>Frequencia</th>\n",
       "      <th>Valor</th>\n",
       "      <th>Cluster</th>\n",
       "    </tr>\n",
       "  </thead>\n",
       "  <tbody>\n",
       "    <tr>\n",
       "      <th>0</th>\n",
       "      <td>1</td>\n",
       "      <td>7</td>\n",
       "      <td>152</td>\n",
       "      <td>2210.09</td>\n",
       "      <td>3</td>\n",
       "    </tr>\n",
       "    <tr>\n",
       "      <th>1</th>\n",
       "      <td>2</td>\n",
       "      <td>7</td>\n",
       "      <td>135</td>\n",
       "      <td>2425.25</td>\n",
       "      <td>3</td>\n",
       "    </tr>\n",
       "    <tr>\n",
       "      <th>2</th>\n",
       "      <td>3</td>\n",
       "      <td>8</td>\n",
       "      <td>181</td>\n",
       "      <td>2575.80</td>\n",
       "      <td>1</td>\n",
       "    </tr>\n",
       "    <tr>\n",
       "      <th>3</th>\n",
       "      <td>4</td>\n",
       "      <td>3</td>\n",
       "      <td>167</td>\n",
       "      <td>3155.58</td>\n",
       "      <td>2</td>\n",
       "    </tr>\n",
       "    <tr>\n",
       "      <th>4</th>\n",
       "      <td>5</td>\n",
       "      <td>28</td>\n",
       "      <td>159</td>\n",
       "      <td>2802.72</td>\n",
       "      <td>0</td>\n",
       "    </tr>\n",
       "  </tbody>\n",
       "</table>\n",
       "</div>"
      ],
      "text/plain": [
       "   _CustomerID  Recencia  Frequencia    Valor  Cluster\n",
       "0            1         7         152  2210.09        3\n",
       "1            2         7         135  2425.25        3\n",
       "2            3         8         181  2575.80        1\n",
       "3            4         3         167  3155.58        2\n",
       "4            5        28         159  2802.72        0"
      ]
     },
     "execution_count": 183,
     "metadata": {},
     "output_type": "execute_result"
    }
   ],
   "source": [
    "kmeans = KMeans(n_clusters = 4, random_state = 21)\n",
    "kmeans.fit(standardized_data[feature_cols])\n",
    "\n",
    "df_rfv[\"Cluster\"] = kmeans.labels_\n",
    "df_rfv.head()"
   ]
  },
  {
   "cell_type": "markdown",
   "id": "5e2f5322-6595-4663-b1e2-8cbb0afbbaa6",
   "metadata": {},
   "source": [
    "### Boxplots dos Clusters"
   ]
  },
  {
   "cell_type": "code",
   "execution_count": 184,
   "id": "5e191239-88fb-480f-a0f1-a10e8a5345b1",
   "metadata": {},
   "outputs": [
    {
     "data": {
      "image/png": "[encoded data removed]",
      "text/plain": [
       "<Figure size 640x480 with 1 Axes>"
      ]
     },
     "metadata": {},
     "output_type": "display_data"
    }
   ],
   "source": [
    "sns.boxplot(df_rfv, x = \"Cluster\", y = \"Recencia\")\n",
    "plt.title(\"Boxplot das Recencias\")\n",
    "plt.show()"
   ]
  },
  {
   "cell_type": "code",
   "execution_count": 185,
   "id": "268e4c84-8b82-4458-9be6-c5a9d6040666",
   "metadata": {},
   "outputs": [
    {
     "data": {
      "image/png": "[encoded data removed]",
      "text/plain": [
       "<Figure size 640x480 with 1 Axes>"
      ]
     },
     "metadata": {},
     "output_type": "display_data"
    }
   ],
   "source": [
    "sns.boxplot(df_rfv, x = \"Cluster\", y = \"Frequencia\")\n",
    "plt.title(\"Boxplot das Frequencia\")\n",
    "plt.show()"
   ]
  },
  {
   "cell_type": "code",
   "execution_count": 186,
   "id": "3044e94e-f982-4cf5-943b-837c13681e9b",
   "metadata": {},
   "outputs": [
    {
     "data": {
      "image/png": "[encoded data removed]",
      "text/plain": [
       "<Figure size 640x480 with 1 Axes>"
      ]
     },
     "metadata": {},
     "output_type": "display_data"
    }
   ],
   "source": [
    "sns.boxplot(df_rfv, x = \"Cluster\", y = \"Valor\")\n",
    "plt.title(\"Boxplot dos Valores\")\n",
    "plt.show()"
   ]
  },
  {
   "cell_type": "markdown",
   "id": "1f6e9dd7-0bbe-4128-829e-c1c499caf6f3",
   "metadata": {},
   "source": [
    "### Definção da Segmentação "
   ]
  },
  {
   "cell_type": "code",
   "execution_count": 187,
   "id": "6a1318c4-d611-4a3f-9c34-d89db62b2167",
   "metadata": {},
   "outputs": [
    {
     "data": {
      "text/html": [
       "<div>\n",
       "<style scoped>\n",
       "    .dataframe tbody tr th:only-of-type {\n",
       "        vertical-align: middle;\n",
       "    }\n",
       "\n",
       "    .dataframe tbody tr th {\n",
       "        vertical-align: top;\n",
       "    }\n",
       "\n",
       "    .dataframe thead th {\n",
       "        text-align: right;\n",
       "    }\n",
       "</style>\n",
       "<table border=\"1\" class=\"dataframe\">\n",
       "  <thead>\n",
       "    <tr style=\"text-align: right;\">\n",
       "      <th></th>\n",
       "      <th>Cluster</th>\n",
       "      <th>Número de Clientes</th>\n",
       "      <th>Recencia</th>\n",
       "      <th>Frequencia</th>\n",
       "      <th>Valor</th>\n",
       "    </tr>\n",
       "  </thead>\n",
       "  <tbody>\n",
       "    <tr>\n",
       "      <th>0</th>\n",
       "      <td>0</td>\n",
       "      <td>6</td>\n",
       "      <td>16.500000</td>\n",
       "      <td>161.833333</td>\n",
       "      <td>2751.973333</td>\n",
       "    </tr>\n",
       "    <tr>\n",
       "      <th>1</th>\n",
       "      <td>1</td>\n",
       "      <td>14</td>\n",
       "      <td>3.785714</td>\n",
       "      <td>176.571429</td>\n",
       "      <td>2701.735000</td>\n",
       "    </tr>\n",
       "    <tr>\n",
       "      <th>2</th>\n",
       "      <td>2</td>\n",
       "      <td>16</td>\n",
       "      <td>2.625000</td>\n",
       "      <td>153.000000</td>\n",
       "      <td>2844.886875</td>\n",
       "    </tr>\n",
       "    <tr>\n",
       "      <th>3</th>\n",
       "      <td>3</td>\n",
       "      <td>14</td>\n",
       "      <td>4.357143</td>\n",
       "      <td>150.000000</td>\n",
       "      <td>2379.587143</td>\n",
       "    </tr>\n",
       "  </tbody>\n",
       "</table>\n",
       "</div>"
      ],
      "text/plain": [
       "   Cluster  Número de Clientes   Recencia  Frequencia        Valor\n",
       "0        0                   6  16.500000  161.833333  2751.973333\n",
       "1        1                  14   3.785714  176.571429  2701.735000\n",
       "2        2                  16   2.625000  153.000000  2844.886875\n",
       "3        3                  14   4.357143  150.000000  2379.587143"
      ]
     },
     "execution_count": 187,
     "metadata": {},
     "output_type": "execute_result"
    }
   ],
   "source": [
    "centroid_df = (\n",
    "    df_rfv.groupby(\"Cluster\")[[\"_CustomerID\", \"Recencia\", \"Frequencia\", \"Valor\"]]\n",
    "    .agg(\n",
    "        {\n",
    "            \"_CustomerID\": \"nunique\",\n",
    "            \"Recencia\": \"mean\",\n",
    "            \"Frequencia\": \"mean\",\n",
    "            \"Valor\": \"mean\"\n",
    "        }\n",
    "    )\n",
    "    .reset_index()\n",
    ")\n",
    "\n",
    "centroid_df = centroid_df.rename(columns = {\"_CustomerID\": \"Número de Clientes\"})\n",
    "\n",
    "centroid_df.head()"
   ]
  },
  {
   "cell_type": "markdown",
   "id": "9691e135-7af8-46de-b764-76cb188c3502",
   "metadata": {},
   "source": [
    "- Cluster 0: Recência muito baixa, frequência baixa, valor baixo. Estes clientes vou classificar como Possível Churn.\n",
    "- Cluster 1: Recência média, frequência alta, valor médio. Estes clientes vou classificar como Cliente Importante.\n",
    "- Cluster 2: Recência alta, frequência baixa, valor alto. Estes clientes vou classificar como Cliente com Potencial.\n",
    "- Cluster 3: Recência baixa, frequência muito baixa, valor muito baixo. Estes clientes vou classificar estes clientes como Precisa de Atenção. "
   ]
  },
  {
   "cell_type": "code",
   "execution_count": 188,
   "id": "fcd57dd3-3809-4320-94f8-b70416e118f4",
   "metadata": {},
   "outputs": [
    {
     "data": {
      "text/html": [
       "<div>\n",
       "<style scoped>\n",
       "    .dataframe tbody tr th:only-of-type {\n",
       "        vertical-align: middle;\n",
       "    }\n",
       "\n",
       "    .dataframe tbody tr th {\n",
       "        vertical-align: top;\n",
       "    }\n",
       "\n",
       "    .dataframe thead th {\n",
       "        text-align: right;\n",
       "    }\n",
       "</style>\n",
       "<table border=\"1\" class=\"dataframe\">\n",
       "  <thead>\n",
       "    <tr style=\"text-align: right;\">\n",
       "      <th></th>\n",
       "      <th>Cluster</th>\n",
       "      <th>Número de Clientes</th>\n",
       "      <th>Recencia</th>\n",
       "      <th>Frequencia</th>\n",
       "      <th>Valor</th>\n",
       "      <th>Segmento</th>\n",
       "    </tr>\n",
       "  </thead>\n",
       "  <tbody>\n",
       "    <tr>\n",
       "      <th>0</th>\n",
       "      <td>0</td>\n",
       "      <td>6</td>\n",
       "      <td>16.500000</td>\n",
       "      <td>161.833333</td>\n",
       "      <td>2751.973333</td>\n",
       "      <td>Possível Churn</td>\n",
       "    </tr>\n",
       "    <tr>\n",
       "      <th>1</th>\n",
       "      <td>1</td>\n",
       "      <td>14</td>\n",
       "      <td>3.785714</td>\n",
       "      <td>176.571429</td>\n",
       "      <td>2701.735000</td>\n",
       "      <td>Cliente Importante</td>\n",
       "    </tr>\n",
       "    <tr>\n",
       "      <th>2</th>\n",
       "      <td>2</td>\n",
       "      <td>16</td>\n",
       "      <td>2.625000</td>\n",
       "      <td>153.000000</td>\n",
       "      <td>2844.886875</td>\n",
       "      <td>Cliente com Potencial</td>\n",
       "    </tr>\n",
       "    <tr>\n",
       "      <th>3</th>\n",
       "      <td>3</td>\n",
       "      <td>14</td>\n",
       "      <td>4.357143</td>\n",
       "      <td>150.000000</td>\n",
       "      <td>2379.587143</td>\n",
       "      <td>Precisa de Atenção</td>\n",
       "    </tr>\n",
       "  </tbody>\n",
       "</table>\n",
       "</div>"
      ],
      "text/plain": [
       "   Cluster  Número de Clientes   Recencia  Frequencia        Valor  \\\n",
       "0        0                   6  16.500000  161.833333  2751.973333   \n",
       "1        1                  14   3.785714  176.571429  2701.735000   \n",
       "2        2                  16   2.625000  153.000000  2844.886875   \n",
       "3        3                  14   4.357143  150.000000  2379.587143   \n",
       "\n",
       "                Segmento  \n",
       "0         Possível Churn  \n",
       "1     Cliente Importante  \n",
       "2  Cliente com Potencial  \n",
       "3     Precisa de Atenção  "
      ]
     },
     "execution_count": 188,
     "metadata": {},
     "output_type": "execute_result"
    }
   ],
   "source": [
    "seg_map = [\"Possível Churn\", \"Cliente Importante\", \"Cliente com Potencial\", \"Precisa de Atenção\"]\n",
    "\n",
    "centroid_df[\"Segmento\"] = seg_map\n",
    "centroid_df.head()"
   ]
  },
  {
   "cell_type": "code",
   "execution_count": 189,
   "id": "8a1b893c-e56a-48cb-9d60-26e8a09d20e7",
   "metadata": {},
   "outputs": [],
   "source": [
    "def segment(value):\n",
    "    if value == 0:\n",
    "        return \"Possível Churn\"\n",
    "    elif value == 1:\n",
    "        return \"Cliente Importante\"\n",
    "    elif value == 2:\n",
    "        return \"Cliente com Potencial\"\n",
    "    else:\n",
    "        return \"Precisa de Atenção\""
   ]
  },
  {
   "cell_type": "code",
   "execution_count": 190,
   "id": "2fcfcd1a-ca2e-47fb-b946-6eb77c2ded23",
   "metadata": {},
   "outputs": [
    {
     "data": {
      "text/html": [
       "<div>\n",
       "<style scoped>\n",
       "    .dataframe tbody tr th:only-of-type {\n",
       "        vertical-align: middle;\n",
       "    }\n",
       "\n",
       "    .dataframe tbody tr th {\n",
       "        vertical-align: top;\n",
       "    }\n",
       "\n",
       "    .dataframe thead th {\n",
       "        text-align: right;\n",
       "    }\n",
       "</style>\n",
       "<table border=\"1\" class=\"dataframe\">\n",
       "  <thead>\n",
       "    <tr style=\"text-align: right;\">\n",
       "      <th></th>\n",
       "      <th>_CustomerID</th>\n",
       "      <th>Recencia</th>\n",
       "      <th>Frequencia</th>\n",
       "      <th>Valor</th>\n",
       "      <th>Cluster</th>\n",
       "      <th>Segmento</th>\n",
       "    </tr>\n",
       "  </thead>\n",
       "  <tbody>\n",
       "    <tr>\n",
       "      <th>0</th>\n",
       "      <td>1</td>\n",
       "      <td>7</td>\n",
       "      <td>152</td>\n",
       "      <td>2210.09</td>\n",
       "      <td>3</td>\n",
       "      <td>Precisa de Atenção</td>\n",
       "    </tr>\n",
       "    <tr>\n",
       "      <th>1</th>\n",
       "      <td>2</td>\n",
       "      <td>7</td>\n",
       "      <td>135</td>\n",
       "      <td>2425.25</td>\n",
       "      <td>3</td>\n",
       "      <td>Precisa de Atenção</td>\n",
       "    </tr>\n",
       "    <tr>\n",
       "      <th>2</th>\n",
       "      <td>3</td>\n",
       "      <td>8</td>\n",
       "      <td>181</td>\n",
       "      <td>2575.80</td>\n",
       "      <td>1</td>\n",
       "      <td>Cliente Importante</td>\n",
       "    </tr>\n",
       "    <tr>\n",
       "      <th>3</th>\n",
       "      <td>4</td>\n",
       "      <td>3</td>\n",
       "      <td>167</td>\n",
       "      <td>3155.58</td>\n",
       "      <td>2</td>\n",
       "      <td>Cliente com Potencial</td>\n",
       "    </tr>\n",
       "    <tr>\n",
       "      <th>4</th>\n",
       "      <td>5</td>\n",
       "      <td>28</td>\n",
       "      <td>159</td>\n",
       "      <td>2802.72</td>\n",
       "      <td>0</td>\n",
       "      <td>Possível Churn</td>\n",
       "    </tr>\n",
       "  </tbody>\n",
       "</table>\n",
       "</div>"
      ],
      "text/plain": [
       "   _CustomerID  Recencia  Frequencia    Valor  Cluster               Segmento\n",
       "0            1         7         152  2210.09        3     Precisa de Atenção\n",
       "1            2         7         135  2425.25        3     Precisa de Atenção\n",
       "2            3         8         181  2575.80        1     Cliente Importante\n",
       "3            4         3         167  3155.58        2  Cliente com Potencial\n",
       "4            5        28         159  2802.72        0         Possível Churn"
      ]
     },
     "execution_count": 190,
     "metadata": {},
     "output_type": "execute_result"
    }
   ],
   "source": [
    "df_rfv[\"Segmento\"] = df_rfv[\"Cluster\"].apply(segment)\n",
    "df_rfv.head()"
   ]
  },
  {
   "cell_type": "code",
   "execution_count": 191,
   "id": "5b80edfb-410c-4bbb-a077-433b0e9705f0",
   "metadata": {},
   "outputs": [],
   "source": [
    "# Salvando o dataset devidamente segmentado\n",
    "df.to_csv(\"../data/ready/dados_rfv.csv\")"
   ]
  },
  {
   "cell_type": "markdown",
   "id": "a9c68fb5-6e49-4bfa-b289-45b7ae44078a",
   "metadata": {},
   "source": [
    "# 5. Conclusões"
   ]
  },
  {
   "cell_type": "markdown",
   "id": "3bd52182-d625-43c4-adbf-6c45a99126d1",
   "metadata": {},
   "source": [
    "![Warehouse](https://images.unsplash.com/photo-1590247813693-5541d1c609fd?q=80&w=2109&auto=format&fit=crop&ixlib=rb-4.0.3&ixid=M3wxMjA3fDB8MHxwaG90by1wYWdlfHx8fGVufDB8fHx8fA%3D%3D)"
   ]
  },
  {
   "cell_type": "markdown",
   "id": "373f28f0-8bd9-4a23-b690-0322bdddd6ab",
   "metadata": {},
   "source": [
    "Ao fim, conseguimos gerar um dataset com uma segmentação bastante útil para o time de marketing tornando possível criar dashboards e campanhas diretamente focadas a clientes como por exemplo:\n",
    "\n",
    "- Uma campanha focada em reverter a possível situação de Churn dos clientes nesta segmentação. Propaganda negativa é muito mais efetiva que a positiva, especialmente em tempos de redes sociais, garantir um bom pós-venda e relacionamento com clientes é muito importante em qualquer sertor;\n",
    "- Campanhas com descontos e outras formas de ativar os clientes com potencial, e fazer com que eles consumam mais produtos (é de entedimentos como este que você recebe aqueles e-mails de grandes lojas e varejistas online);\n",
    "- Clientes que precisam de atenção, entram na mesmo caso de clientes em possível Churn, campanhas que ativem estes clientes e façam eles se sentirem \"lembrados\".\n",
    "- Clientes importantes devem ter tratamento melhor, e acesso a desconto e métodos para aumentar sua fidelização junto a empresa. "
   ]
  },
  {
   "cell_type": "code",
   "execution_count": null,
   "id": "8c88c2c2-17d2-4a03-a384-095fa1c4e3a1",
   "metadata": {},
   "outputs": [],
   "source": []
  }
 ],
 "metadata": {
  "kernelspec": {
   "display_name": "Python 3 (ipykernel)",
   "language": "python",
   "name": "python3"
  },
  "language_info": {
   "codemirror_mode": {
    "name": "ipython",
    "version": 3
   },
   "file_extension": ".py",
   "mimetype": "text/x-python",
   "name": "python",
   "nbconvert_exporter": "python",
   "pygments_lexer": "ipython3",
   "version": "3.11.5"
  }
 },
 "nbformat": 4,
 "nbformat_minor": 5
}
