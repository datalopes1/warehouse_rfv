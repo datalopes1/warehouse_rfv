{
 "cells": [
  {
   "cell_type": "markdown",
   "id": "3607fd8c-f009-4592-b746-f37fa69201bd",
   "metadata": {},
   "source": [
    "# Análise RFV (Recência Frequência Valor) - Warehouse Sales Data\n",
    "\n",
    "Neste projeto será realizada uma análise do tipo RFV (Recência, Frequência e Valor) com dados que encontrei neste video no Youtube do canal [Jie Jenn](https://www.youtube.com/watch?v=9wxWrERZvss)."
   ]
  },
  {
   "cell_type": "markdown",
   "id": "42aeb6ca-19af-483d-9202-5245c2cc508a",
   "metadata": {},
   "source": [
    "![img](https://images.unsplash.com/photo-1624927637280-f033784c1279?q=80&w=2074&auto=format&fit=crop&ixlib=rb-4.0.3&ixid=M3wxMjA3fDB8MHxwaG90by1wYWdlfHx8fGVufDB8fHx8fA%3D%3D)"
   ]
  },
  {
   "cell_type": "markdown",
   "id": "749824f0-7e7e-4d14-a706-1dec8e145fc8",
   "metadata": {},
   "source": [
    "## 1.1. Os dados, o problema e os objetivos\n",
    "\n",
    "A análise RFV é uma técnica de segmentação de clientes muito utilizada em marketing e gestão de relacionamento com clientes (CRM). Ela tem base em três métricas:\n",
    "\n",
    "- Recência (Recency): O tempo decorrido entre a última compra ou interação de um cliente com a empresa. Clientes mais recentes têm tendência de fazer mais compras do que clientes que não interagem há muito tempo.\n",
    "- Frequência (Frequency): É o número total de compras ou interações do cliente com a empresa. Clientes com maior frequência de compra representam aqueles que são fiéis à empresa.\n",
    "- Valor monetário (Monetary value): Refere-se ao gasto total ou à média de gastos do cliente em suas compras na empresa. Clientes que têm maior média de valores gastos na empresa contribuem de maneira significante com os lucros dela.\n",
    "\n",
    "Combinando essas três métricas é possível de várias maneiras segmentar os clientes e, a partir disso, criar campanhas de marketing, estratégias de relacionamento e campanhas focadas em cada segmento de cliente específico."
   ]
  },
  {
   "cell_type": "markdown",
   "id": "5e2fa96b-9e1c-4e3c-bb00-440832002715",
   "metadata": {},
   "source": [
    "### Estrutura do dataset\n",
    "Os dados são de uma rede varejista fictícia, as colunas estão organizadas dessa forma:\n",
    "\n",
    "|Coluna|Descrição|\n",
    "|-----|----------|\n",
    "|**OrderNumber**|ID do pedido|\n",
    "|**Sales Channel**|Canal de vendas do pedido|\n",
    "|**WarehouseCode**|ID do armazém do pedido|\n",
    "|**ProcuredDate**|Data de reserva do pedido|\n",
    "|**OrderDate**|Data da realizaçãod do pedido|\n",
    "|**ShipDate**|Data de envio|\n",
    "|**DeliveryDate**|Data de entrega|\n",
    "|**CurrencyCode**|Moeda utilizada na transação|\n",
    "|**_SalesTeamID**|ID do time de vendas|\n",
    "|**_CustomerID**|ID do cliente|\n",
    "|**_StoreID**|ID da loja|\n",
    "|**_ProductID**|ID do produto|\n",
    "|**Order Quantity**|Quantidade de itens no pedido|\n",
    "|**Discount Applied**|Desconto aplicado na compra|\n",
    "|**Unit Price**|Preço unitário do produto|\n",
    "|**Unit Cost**|Custo unitário|\n",
    "\n",
    "### Objetivos\n",
    "Com este conjunto de dados em mãos, meu objetivo será realizar a análise RFV com uso do algoritmo KMeans e identificar uma segmentação de clientes para ser trabalhada pelo setor de marketing da empresa."
   ]
  },
  {
   "cell_type": "markdown",
   "id": "cc048d00-51b6-4dd9-b63b-d758a303864a",
   "metadata": {},
   "source": [
    "## 1.2. Importação das bibliotecas e carregamento dos dados"
   ]
  },
  {
   "cell_type": "code",
   "execution_count": 224,
   "id": "51778fd1",
   "metadata": {},
   "outputs": [],
   "source": [
    "# Manipulação de dados\n",
    "import pandas as pd\n",
    "import numpy as np\n",
    "\n",
    "# Análise Exploratória de Dados\n",
    "import matplotlib.pyplot as plt\n",
    "import seaborn as sns\n",
    "\n",
    "# Configurações do notebook\n",
    "import warnings\n",
    "warnings.filterwarnings('ignore')\n",
    "plt.style.use('ggplot')\n",
    "my_palette = sns.color_palette([\"#4E7CFF\", \"#7033FF\", \"#F65164\", \"#22C0FF\", \"#DC7653\"])\n",
    "sns.set_palette(my_palette)\n",
    "pd.set_option('display.max_rows', 20)\n",
    "pd.set_option('display.max_columns', 40)"
   ]
  },
  {
   "cell_type": "code",
   "execution_count": 225,
   "id": "817f3c16",
   "metadata": {},
   "outputs": [
    {
     "data": {
      "image/png": "[encoded data removed]",
      "text/plain": [
       "<Figure size 800x100 with 1 Axes>"
      ]
     },
     "metadata": {},
     "output_type": "display_data"
    }
   ],
   "source": [
    "plt.figure(figsize=(8, 1))\n",
    "\n",
    "for i, cor in enumerate(my_palette):\n",
    "    plt.fill_between([i, i + 1], 0, 1, color=cor)\n",
    "\n",
    "plt.axis('off')\n",
    "plt.title('Paleta de Cores', fontsize = 10)\n",
    "plt.show()"
   ]
  },
  {
   "cell_type": "code",
   "execution_count": 226,
   "id": "72c53091-eb74-4792-a135-ca3a1060e90c",
   "metadata": {},
   "outputs": [],
   "source": [
    "df = pd.read_csv(\"../data/raw/dados.csv\")"
   ]
  },
  {
   "cell_type": "markdown",
   "id": "c47ac528-66d2-41b8-b994-ee8b3cd47cbf",
   "metadata": {},
   "source": [
    "# 2. Estrutura dos dados"
   ]
  },
  {
   "cell_type": "code",
   "execution_count": 228,
   "id": "95c89509-b090-48f1-a4e9-1d399b61b935",
   "metadata": {},
   "outputs": [
    {
     "data": {
      "text/plain": [
       "(7991, 16)"
      ]
     },
     "execution_count": 228,
     "metadata": {},
     "output_type": "execute_result"
    }
   ],
   "source": [
    "df.shape"
   ]
  },
  {
   "cell_type": "code",
   "execution_count": 229,
   "id": "75f92c4c-fdd0-44f7-b52b-bfbaad0f1c34",
   "metadata": {},
   "outputs": [
    {
     "data": {
      "text/html": [
       "<div>\n",
       "<style scoped>\n",
       "    .dataframe tbody tr th:only-of-type {\n",
       "        vertical-align: middle;\n",
       "    }\n",
       "\n",
       "    .dataframe tbody tr th {\n",
       "        vertical-align: top;\n",
       "    }\n",
       "\n",
       "    .dataframe thead th {\n",
       "        text-align: right;\n",
       "    }\n",
       "</style>\n",
       "<table border=\"1\" class=\"dataframe\">\n",
       "  <thead>\n",
       "    <tr style=\"text-align: right;\">\n",
       "      <th></th>\n",
       "      <th>OrderNumber</th>\n",
       "      <th>Sales Channel</th>\n",
       "      <th>WarehouseCode</th>\n",
       "      <th>ProcuredDate</th>\n",
       "      <th>OrderDate</th>\n",
       "      <th>ShipDate</th>\n",
       "      <th>DeliveryDate</th>\n",
       "      <th>CurrencyCode</th>\n",
       "      <th>_SalesTeamID</th>\n",
       "      <th>_CustomerID</th>\n",
       "      <th>_StoreID</th>\n",
       "      <th>_ProductID</th>\n",
       "      <th>Order Quantity</th>\n",
       "      <th>Discount Applied</th>\n",
       "      <th>Unit Price</th>\n",
       "      <th>Unit Cost</th>\n",
       "    </tr>\n",
       "  </thead>\n",
       "  <tbody>\n",
       "    <tr>\n",
       "      <th>0</th>\n",
       "      <td>SO - 000101</td>\n",
       "      <td>In-Store</td>\n",
       "      <td>WARE-UHY1004</td>\n",
       "      <td>12/31/2017</td>\n",
       "      <td>5/31/2018</td>\n",
       "      <td>6/14/2018</td>\n",
       "      <td>6/19/2018</td>\n",
       "      <td>USD</td>\n",
       "      <td>6</td>\n",
       "      <td>15</td>\n",
       "      <td>259</td>\n",
       "      <td>12</td>\n",
       "      <td>5</td>\n",
       "      <td>0.075</td>\n",
       "      <td>1963.1</td>\n",
       "      <td>1001.181</td>\n",
       "    </tr>\n",
       "    <tr>\n",
       "      <th>1</th>\n",
       "      <td>SO - 000102</td>\n",
       "      <td>Online</td>\n",
       "      <td>WARE-NMK1003</td>\n",
       "      <td>12/31/2017</td>\n",
       "      <td>5/31/2018</td>\n",
       "      <td>6/22/2018</td>\n",
       "      <td>7/2/2018</td>\n",
       "      <td>USD</td>\n",
       "      <td>14</td>\n",
       "      <td>20</td>\n",
       "      <td>196</td>\n",
       "      <td>27</td>\n",
       "      <td>3</td>\n",
       "      <td>0.075</td>\n",
       "      <td>3939.6</td>\n",
       "      <td>3348.660</td>\n",
       "    </tr>\n",
       "    <tr>\n",
       "      <th>2</th>\n",
       "      <td>SO - 000103</td>\n",
       "      <td>Distributor</td>\n",
       "      <td>WARE-UHY1004</td>\n",
       "      <td>12/31/2017</td>\n",
       "      <td>5/31/2018</td>\n",
       "      <td>6/21/2018</td>\n",
       "      <td>7/1/2018</td>\n",
       "      <td>USD</td>\n",
       "      <td>21</td>\n",
       "      <td>16</td>\n",
       "      <td>213</td>\n",
       "      <td>16</td>\n",
       "      <td>1</td>\n",
       "      <td>0.050</td>\n",
       "      <td>1775.5</td>\n",
       "      <td>781.220</td>\n",
       "    </tr>\n",
       "    <tr>\n",
       "      <th>3</th>\n",
       "      <td>SO - 000104</td>\n",
       "      <td>Wholesale</td>\n",
       "      <td>WARE-NMK1003</td>\n",
       "      <td>12/31/2017</td>\n",
       "      <td>5/31/2018</td>\n",
       "      <td>6/2/2018</td>\n",
       "      <td>6/7/2018</td>\n",
       "      <td>USD</td>\n",
       "      <td>28</td>\n",
       "      <td>48</td>\n",
       "      <td>107</td>\n",
       "      <td>23</td>\n",
       "      <td>8</td>\n",
       "      <td>0.075</td>\n",
       "      <td>2324.9</td>\n",
       "      <td>1464.687</td>\n",
       "    </tr>\n",
       "    <tr>\n",
       "      <th>4</th>\n",
       "      <td>SO - 000105</td>\n",
       "      <td>Distributor</td>\n",
       "      <td>WARE-NMK1003</td>\n",
       "      <td>4/10/2018</td>\n",
       "      <td>5/31/2018</td>\n",
       "      <td>6/16/2018</td>\n",
       "      <td>6/26/2018</td>\n",
       "      <td>USD</td>\n",
       "      <td>22</td>\n",
       "      <td>49</td>\n",
       "      <td>111</td>\n",
       "      <td>26</td>\n",
       "      <td>8</td>\n",
       "      <td>0.100</td>\n",
       "      <td>1822.4</td>\n",
       "      <td>1476.144</td>\n",
       "    </tr>\n",
       "  </tbody>\n",
       "</table>\n",
       "</div>"
      ],
      "text/plain": [
       "   OrderNumber Sales Channel WarehouseCode ProcuredDate  OrderDate   ShipDate  \\\n",
       "0  SO - 000101      In-Store  WARE-UHY1004   12/31/2017  5/31/2018  6/14/2018   \n",
       "1  SO - 000102        Online  WARE-NMK1003   12/31/2017  5/31/2018  6/22/2018   \n",
       "2  SO - 000103   Distributor  WARE-UHY1004   12/31/2017  5/31/2018  6/21/2018   \n",
       "3  SO - 000104     Wholesale  WARE-NMK1003   12/31/2017  5/31/2018   6/2/2018   \n",
       "4  SO - 000105   Distributor  WARE-NMK1003    4/10/2018  5/31/2018  6/16/2018   \n",
       "\n",
       "  DeliveryDate CurrencyCode  _SalesTeamID  _CustomerID  _StoreID  _ProductID  \\\n",
       "0    6/19/2018          USD             6           15       259          12   \n",
       "1     7/2/2018          USD            14           20       196          27   \n",
       "2     7/1/2018          USD            21           16       213          16   \n",
       "3     6/7/2018          USD            28           48       107          23   \n",
       "4    6/26/2018          USD            22           49       111          26   \n",
       "\n",
       "   Order Quantity  Discount Applied  Unit Price  Unit Cost  \n",
       "0               5             0.075      1963.1   1001.181  \n",
       "1               3             0.075      3939.6   3348.660  \n",
       "2               1             0.050      1775.5    781.220  \n",
       "3               8             0.075      2324.9   1464.687  \n",
       "4               8             0.100      1822.4   1476.144  "
      ]
     },
     "execution_count": 229,
     "metadata": {},
     "output_type": "execute_result"
    }
   ],
   "source": [
    "df.head()"
   ]
  },
  {
   "cell_type": "code",
   "execution_count": 230,
   "id": "a9c81b00-a958-42ea-baf6-f527de3cf36b",
   "metadata": {},
   "outputs": [
    {
     "data": {
      "text/html": [
       "<div>\n",
       "<style scoped>\n",
       "    .dataframe tbody tr th:only-of-type {\n",
       "        vertical-align: middle;\n",
       "    }\n",
       "\n",
       "    .dataframe tbody tr th {\n",
       "        vertical-align: top;\n",
       "    }\n",
       "\n",
       "    .dataframe thead th {\n",
       "        text-align: right;\n",
       "    }\n",
       "</style>\n",
       "<table border=\"1\" class=\"dataframe\">\n",
       "  <thead>\n",
       "    <tr style=\"text-align: right;\">\n",
       "      <th></th>\n",
       "      <th>OrderNumber</th>\n",
       "      <th>Sales Channel</th>\n",
       "      <th>WarehouseCode</th>\n",
       "      <th>ProcuredDate</th>\n",
       "      <th>OrderDate</th>\n",
       "      <th>ShipDate</th>\n",
       "      <th>DeliveryDate</th>\n",
       "      <th>CurrencyCode</th>\n",
       "      <th>_SalesTeamID</th>\n",
       "      <th>_CustomerID</th>\n",
       "      <th>_StoreID</th>\n",
       "      <th>_ProductID</th>\n",
       "      <th>Order Quantity</th>\n",
       "      <th>Discount Applied</th>\n",
       "      <th>Unit Price</th>\n",
       "      <th>Unit Cost</th>\n",
       "    </tr>\n",
       "  </thead>\n",
       "  <tbody>\n",
       "    <tr>\n",
       "      <th>7986</th>\n",
       "      <td>SO - 0008087</td>\n",
       "      <td>In-Store</td>\n",
       "      <td>WARE-MKL1006</td>\n",
       "      <td>9/26/2020</td>\n",
       "      <td>12/30/2020</td>\n",
       "      <td>1/7/2021</td>\n",
       "      <td>1/14/2021</td>\n",
       "      <td>USD</td>\n",
       "      <td>9</td>\n",
       "      <td>41</td>\n",
       "      <td>339</td>\n",
       "      <td>29</td>\n",
       "      <td>1</td>\n",
       "      <td>0.075</td>\n",
       "      <td>234.5</td>\n",
       "      <td>121.940</td>\n",
       "    </tr>\n",
       "    <tr>\n",
       "      <th>7987</th>\n",
       "      <td>SO - 0008088</td>\n",
       "      <td>Online</td>\n",
       "      <td>WARE-NMK1003</td>\n",
       "      <td>9/26/2020</td>\n",
       "      <td>12/30/2020</td>\n",
       "      <td>1/2/2021</td>\n",
       "      <td>1/4/2021</td>\n",
       "      <td>USD</td>\n",
       "      <td>14</td>\n",
       "      <td>29</td>\n",
       "      <td>202</td>\n",
       "      <td>3</td>\n",
       "      <td>6</td>\n",
       "      <td>0.050</td>\n",
       "      <td>3202.6</td>\n",
       "      <td>1921.560</td>\n",
       "    </tr>\n",
       "    <tr>\n",
       "      <th>7988</th>\n",
       "      <td>SO - 0008089</td>\n",
       "      <td>Online</td>\n",
       "      <td>WARE-UHY1004</td>\n",
       "      <td>9/26/2020</td>\n",
       "      <td>12/30/2020</td>\n",
       "      <td>1/23/2021</td>\n",
       "      <td>1/26/2021</td>\n",
       "      <td>USD</td>\n",
       "      <td>14</td>\n",
       "      <td>32</td>\n",
       "      <td>241</td>\n",
       "      <td>35</td>\n",
       "      <td>5</td>\n",
       "      <td>0.200</td>\n",
       "      <td>3825.7</td>\n",
       "      <td>2792.761</td>\n",
       "    </tr>\n",
       "    <tr>\n",
       "      <th>7989</th>\n",
       "      <td>SO - 0008090</td>\n",
       "      <td>Online</td>\n",
       "      <td>WARE-NMK1003</td>\n",
       "      <td>9/26/2020</td>\n",
       "      <td>12/30/2020</td>\n",
       "      <td>1/20/2021</td>\n",
       "      <td>1/25/2021</td>\n",
       "      <td>USD</td>\n",
       "      <td>20</td>\n",
       "      <td>42</td>\n",
       "      <td>112</td>\n",
       "      <td>36</td>\n",
       "      <td>8</td>\n",
       "      <td>0.100</td>\n",
       "      <td>1072.0</td>\n",
       "      <td>804.000</td>\n",
       "    </tr>\n",
       "    <tr>\n",
       "      <th>7990</th>\n",
       "      <td>SO - 0008091</td>\n",
       "      <td>In-Store</td>\n",
       "      <td>WARE-UHY1004</td>\n",
       "      <td>9/26/2020</td>\n",
       "      <td>12/30/2020</td>\n",
       "      <td>1/13/2021</td>\n",
       "      <td>1/19/2021</td>\n",
       "      <td>USD</td>\n",
       "      <td>6</td>\n",
       "      <td>41</td>\n",
       "      <td>237</td>\n",
       "      <td>43</td>\n",
       "      <td>5</td>\n",
       "      <td>0.075</td>\n",
       "      <td>2211.0</td>\n",
       "      <td>1370.820</td>\n",
       "    </tr>\n",
       "  </tbody>\n",
       "</table>\n",
       "</div>"
      ],
      "text/plain": [
       "       OrderNumber Sales Channel WarehouseCode ProcuredDate   OrderDate  \\\n",
       "7986  SO - 0008087      In-Store  WARE-MKL1006    9/26/2020  12/30/2020   \n",
       "7987  SO - 0008088        Online  WARE-NMK1003    9/26/2020  12/30/2020   \n",
       "7988  SO - 0008089        Online  WARE-UHY1004    9/26/2020  12/30/2020   \n",
       "7989  SO - 0008090        Online  WARE-NMK1003    9/26/2020  12/30/2020   \n",
       "7990  SO - 0008091      In-Store  WARE-UHY1004    9/26/2020  12/30/2020   \n",
       "\n",
       "       ShipDate DeliveryDate CurrencyCode  _SalesTeamID  _CustomerID  \\\n",
       "7986   1/7/2021    1/14/2021          USD             9           41   \n",
       "7987   1/2/2021     1/4/2021          USD            14           29   \n",
       "7988  1/23/2021    1/26/2021          USD            14           32   \n",
       "7989  1/20/2021    1/25/2021          USD            20           42   \n",
       "7990  1/13/2021    1/19/2021          USD             6           41   \n",
       "\n",
       "      _StoreID  _ProductID  Order Quantity  Discount Applied  Unit Price  \\\n",
       "7986       339          29               1             0.075       234.5   \n",
       "7987       202           3               6             0.050      3202.6   \n",
       "7988       241          35               5             0.200      3825.7   \n",
       "7989       112          36               8             0.100      1072.0   \n",
       "7990       237          43               5             0.075      2211.0   \n",
       "\n",
       "      Unit Cost  \n",
       "7986    121.940  \n",
       "7987   1921.560  \n",
       "7988   2792.761  \n",
       "7989    804.000  \n",
       "7990   1370.820  "
      ]
     },
     "execution_count": 230,
     "metadata": {},
     "output_type": "execute_result"
    }
   ],
   "source": [
    "df.tail()"
   ]
  },
  {
   "cell_type": "code",
   "execution_count": 231,
   "id": "5e1b4843-8437-416a-9b47-4a72037a3f5f",
   "metadata": {},
   "outputs": [
    {
     "name": "stdout",
     "output_type": "stream",
     "text": [
      "<class 'pandas.core.frame.DataFrame'>\n",
      "RangeIndex: 7991 entries, 0 to 7990\n",
      "Data columns (total 16 columns):\n",
      " #   Column            Non-Null Count  Dtype  \n",
      "---  ------            --------------  -----  \n",
      " 0   OrderNumber       7991 non-null   object \n",
      " 1   Sales Channel     7991 non-null   object \n",
      " 2   WarehouseCode     7991 non-null   object \n",
      " 3   ProcuredDate      7991 non-null   object \n",
      " 4   OrderDate         7991 non-null   object \n",
      " 5   ShipDate          7991 non-null   object \n",
      " 6   DeliveryDate      7991 non-null   object \n",
      " 7   CurrencyCode      7991 non-null   object \n",
      " 8   _SalesTeamID      7991 non-null   int64  \n",
      " 9   _CustomerID       7991 non-null   int64  \n",
      " 10  _StoreID          7991 non-null   int64  \n",
      " 11  _ProductID        7991 non-null   int64  \n",
      " 12  Order Quantity    7991 non-null   int64  \n",
      " 13  Discount Applied  7991 non-null   float64\n",
      " 14  Unit Price        7991 non-null   float64\n",
      " 15  Unit Cost         7991 non-null   float64\n",
      "dtypes: float64(3), int64(5), object(8)\n",
      "memory usage: 999.0+ KB\n"
     ]
    }
   ],
   "source": [
    "df.info()"
   ]
  },
  {
   "cell_type": "markdown",
   "id": "c4410ae5-2895-4ab8-9243-e340ee9243c4",
   "metadata": {},
   "source": [
    "# 3. Limpeza e manipulação dos dados"
   ]
  },
  {
   "cell_type": "markdown",
   "id": "82d6e15e-e14c-450d-a70b-2c86b2bcc829",
   "metadata": {},
   "source": [
    "## 3.1. Nulos e duplicatas"
   ]
  },
  {
   "cell_type": "code",
   "execution_count": 234,
   "id": "01c98ed0-6b3c-49fa-999a-9c53fb20332a",
   "metadata": {},
   "outputs": [
    {
     "name": "stdout",
     "output_type": "stream",
     "text": [
      "O dataset tem 0 dados nulos\n"
     ]
    }
   ],
   "source": [
    "print(f\"O dataset tem {df.isna().sum().sum()} dados nulos\")"
   ]
  },
  {
   "cell_type": "code",
   "execution_count": 235,
   "id": "2eebd949-e359-4a18-b1fa-19fd2d387f22",
   "metadata": {},
   "outputs": [
    {
     "name": "stdout",
     "output_type": "stream",
     "text": [
      "O dataset tem 0 dados duplicados\n"
     ]
    }
   ],
   "source": [
    "print(f\"O dataset tem {df.duplicated().sum()} dados duplicados\")"
   ]
  },
  {
   "cell_type": "markdown",
   "id": "c632d6fa-0fbe-4cb5-8e23-3dab7820f7c0",
   "metadata": {},
   "source": [
    "## 3.2. Manipulação dos dados"
   ]
  },
  {
   "cell_type": "markdown",
   "id": "dcfaaffc-1629-48d7-8a1d-a79ea2079246",
   "metadata": {},
   "source": [
    "### Conversões para datetime"
   ]
  },
  {
   "cell_type": "code",
   "execution_count": 238,
   "id": "6f443b93-05a4-4571-8a2f-62ac401a4a39",
   "metadata": {},
   "outputs": [
    {
     "name": "stdout",
     "output_type": "stream",
     "text": [
      "<class 'pandas.core.frame.DataFrame'>\n",
      "RangeIndex: 7991 entries, 0 to 7990\n",
      "Data columns (total 16 columns):\n",
      " #   Column            Non-Null Count  Dtype         \n",
      "---  ------            --------------  -----         \n",
      " 0   OrderNumber       7991 non-null   object        \n",
      " 1   Sales Channel     7991 non-null   object        \n",
      " 2   WarehouseCode     7991 non-null   object        \n",
      " 3   ProcuredDate      7991 non-null   datetime64[ns]\n",
      " 4   OrderDate         7991 non-null   datetime64[ns]\n",
      " 5   ShipDate          7991 non-null   datetime64[ns]\n",
      " 6   DeliveryDate      7991 non-null   object        \n",
      " 7   CurrencyCode      7991 non-null   object        \n",
      " 8   _SalesTeamID      7991 non-null   int64         \n",
      " 9   _CustomerID       7991 non-null   int64         \n",
      " 10  _StoreID          7991 non-null   int64         \n",
      " 11  _ProductID        7991 non-null   int64         \n",
      " 12  Order Quantity    7991 non-null   int64         \n",
      " 13  Discount Applied  7991 non-null   float64       \n",
      " 14  Unit Price        7991 non-null   float64       \n",
      " 15  Unit Cost         7991 non-null   float64       \n",
      "dtypes: datetime64[ns](3), float64(3), int64(5), object(5)\n",
      "memory usage: 999.0+ KB\n"
     ]
    }
   ],
   "source": [
    "df[\"ProcuredDate\"] = pd.to_datetime(df[\"ProcuredDate\"])\n",
    "df[\"OrderDate\"] = pd.to_datetime(df[\"OrderDate\"])\n",
    "df[\"ShipDate\"] = pd.to_datetime(df[\"ShipDate\"])\n",
    "\n",
    "df.info()"
   ]
  },
  {
   "cell_type": "markdown",
   "id": "ed32091a-86c0-43b0-a8c1-df9bfaf5ba3a",
   "metadata": {},
   "source": [
    "### Separação dos dados"
   ]
  },
  {
   "cell_type": "code",
   "execution_count": 240,
   "id": "0f3a5cf8-a37d-4f7a-9d38-7289faac9674",
   "metadata": {},
   "outputs": [
    {
     "data": {
      "text/html": [
       "<div>\n",
       "<style scoped>\n",
       "    .dataframe tbody tr th:only-of-type {\n",
       "        vertical-align: middle;\n",
       "    }\n",
       "\n",
       "    .dataframe tbody tr th {\n",
       "        vertical-align: top;\n",
       "    }\n",
       "\n",
       "    .dataframe thead th {\n",
       "        text-align: right;\n",
       "    }\n",
       "</style>\n",
       "<table border=\"1\" class=\"dataframe\">\n",
       "  <thead>\n",
       "    <tr style=\"text-align: right;\">\n",
       "      <th></th>\n",
       "      <th>_CustomerID</th>\n",
       "      <th>OrderDate</th>\n",
       "      <th>Order Quantity</th>\n",
       "      <th>Discount Applied</th>\n",
       "      <th>Unit Price</th>\n",
       "      <th>Unit Cost</th>\n",
       "    </tr>\n",
       "  </thead>\n",
       "  <tbody>\n",
       "    <tr>\n",
       "      <th>0</th>\n",
       "      <td>15</td>\n",
       "      <td>2018-05-31</td>\n",
       "      <td>5</td>\n",
       "      <td>0.075</td>\n",
       "      <td>1963.1</td>\n",
       "      <td>1001.181</td>\n",
       "    </tr>\n",
       "    <tr>\n",
       "      <th>1</th>\n",
       "      <td>20</td>\n",
       "      <td>2018-05-31</td>\n",
       "      <td>3</td>\n",
       "      <td>0.075</td>\n",
       "      <td>3939.6</td>\n",
       "      <td>3348.660</td>\n",
       "    </tr>\n",
       "    <tr>\n",
       "      <th>2</th>\n",
       "      <td>16</td>\n",
       "      <td>2018-05-31</td>\n",
       "      <td>1</td>\n",
       "      <td>0.050</td>\n",
       "      <td>1775.5</td>\n",
       "      <td>781.220</td>\n",
       "    </tr>\n",
       "    <tr>\n",
       "      <th>3</th>\n",
       "      <td>48</td>\n",
       "      <td>2018-05-31</td>\n",
       "      <td>8</td>\n",
       "      <td>0.075</td>\n",
       "      <td>2324.9</td>\n",
       "      <td>1464.687</td>\n",
       "    </tr>\n",
       "    <tr>\n",
       "      <th>4</th>\n",
       "      <td>49</td>\n",
       "      <td>2018-05-31</td>\n",
       "      <td>8</td>\n",
       "      <td>0.100</td>\n",
       "      <td>1822.4</td>\n",
       "      <td>1476.144</td>\n",
       "    </tr>\n",
       "  </tbody>\n",
       "</table>\n",
       "</div>"
      ],
      "text/plain": [
       "   _CustomerID  OrderDate  Order Quantity  Discount Applied  Unit Price  \\\n",
       "0           15 2018-05-31               5             0.075      1963.1   \n",
       "1           20 2018-05-31               3             0.075      3939.6   \n",
       "2           16 2018-05-31               1             0.050      1775.5   \n",
       "3           48 2018-05-31               8             0.075      2324.9   \n",
       "4           49 2018-05-31               8             0.100      1822.4   \n",
       "\n",
       "   Unit Cost  \n",
       "0   1001.181  \n",
       "1   3348.660  \n",
       "2    781.220  \n",
       "3   1464.687  \n",
       "4   1476.144  "
      ]
     },
     "execution_count": 240,
     "metadata": {},
     "output_type": "execute_result"
    }
   ],
   "source": [
    "# Colunas que serão utilizadas\n",
    "\n",
    "colunas_rfv = [\"_CustomerID\", \"OrderDate\", \"Order Quantity\", \"Discount Applied\", \"Unit Price\", \"Unit Cost\"]\n",
    "df_rfv = df[colunas_rfv].copy()\n",
    "df_rfv.head()"
   ]
  },
  {
   "cell_type": "code",
   "execution_count": 241,
   "id": "b0c19402-ee58-4dca-8a6c-59c9dea9ab1d",
   "metadata": {},
   "outputs": [
    {
     "data": {
      "text/html": [
       "<div>\n",
       "<style scoped>\n",
       "    .dataframe tbody tr th:only-of-type {\n",
       "        vertical-align: middle;\n",
       "    }\n",
       "\n",
       "    .dataframe tbody tr th {\n",
       "        vertical-align: top;\n",
       "    }\n",
       "\n",
       "    .dataframe thead th {\n",
       "        text-align: right;\n",
       "    }\n",
       "</style>\n",
       "<table border=\"1\" class=\"dataframe\">\n",
       "  <thead>\n",
       "    <tr style=\"text-align: right;\">\n",
       "      <th></th>\n",
       "      <th>_CustomerID</th>\n",
       "      <th>OrderDate</th>\n",
       "      <th>Order Quantity</th>\n",
       "      <th>Discount Applied</th>\n",
       "      <th>Unit Price</th>\n",
       "      <th>Unit Cost</th>\n",
       "      <th>Revenue</th>\n",
       "    </tr>\n",
       "  </thead>\n",
       "  <tbody>\n",
       "    <tr>\n",
       "      <th>0</th>\n",
       "      <td>15</td>\n",
       "      <td>2018-05-31</td>\n",
       "      <td>5</td>\n",
       "      <td>0.075</td>\n",
       "      <td>1963.1</td>\n",
       "      <td>1001.181</td>\n",
       "      <td>4073.4325</td>\n",
       "    </tr>\n",
       "    <tr>\n",
       "      <th>1</th>\n",
       "      <td>20</td>\n",
       "      <td>2018-05-31</td>\n",
       "      <td>3</td>\n",
       "      <td>0.075</td>\n",
       "      <td>3939.6</td>\n",
       "      <td>3348.660</td>\n",
       "      <td>886.4100</td>\n",
       "    </tr>\n",
       "    <tr>\n",
       "      <th>2</th>\n",
       "      <td>16</td>\n",
       "      <td>2018-05-31</td>\n",
       "      <td>1</td>\n",
       "      <td>0.050</td>\n",
       "      <td>1775.5</td>\n",
       "      <td>781.220</td>\n",
       "      <td>905.5050</td>\n",
       "    </tr>\n",
       "    <tr>\n",
       "      <th>3</th>\n",
       "      <td>48</td>\n",
       "      <td>2018-05-31</td>\n",
       "      <td>8</td>\n",
       "      <td>0.075</td>\n",
       "      <td>2324.9</td>\n",
       "      <td>1464.687</td>\n",
       "      <td>5486.7640</td>\n",
       "    </tr>\n",
       "    <tr>\n",
       "      <th>4</th>\n",
       "      <td>49</td>\n",
       "      <td>2018-05-31</td>\n",
       "      <td>8</td>\n",
       "      <td>0.100</td>\n",
       "      <td>1822.4</td>\n",
       "      <td>1476.144</td>\n",
       "      <td>1312.1280</td>\n",
       "    </tr>\n",
       "  </tbody>\n",
       "</table>\n",
       "</div>"
      ],
      "text/plain": [
       "   _CustomerID  OrderDate  Order Quantity  Discount Applied  Unit Price  \\\n",
       "0           15 2018-05-31               5             0.075      1963.1   \n",
       "1           20 2018-05-31               3             0.075      3939.6   \n",
       "2           16 2018-05-31               1             0.050      1775.5   \n",
       "3           48 2018-05-31               8             0.075      2324.9   \n",
       "4           49 2018-05-31               8             0.100      1822.4   \n",
       "\n",
       "   Unit Cost    Revenue  \n",
       "0   1001.181  4073.4325  \n",
       "1   3348.660   886.4100  \n",
       "2    781.220   905.5050  \n",
       "3   1464.687  5486.7640  \n",
       "4   1476.144  1312.1280  "
      ]
     },
     "execution_count": 241,
     "metadata": {},
     "output_type": "execute_result"
    }
   ],
   "source": [
    "# Criação da coluna 'Revenue'\n",
    "\n",
    "df_rfv[\"Revenue\"] = ((df_rfv[\"Unit Price\"] - (df_rfv[\"Unit Price\"] * df_rfv[\"Discount Applied\"]) - df_rfv[\"Unit Cost\"])) * df_rfv[\"Order Quantity\"]\n",
    "df_rfv.head()"
   ]
  },
  {
   "cell_type": "code",
   "execution_count": 242,
   "id": "294a4963-01dc-4386-94d6-7d95102b4e99",
   "metadata": {},
   "outputs": [],
   "source": [
    "# Deixando um .csv com as modificações para futuros trabalhos\n",
    "\n",
    "df_rfv.to_csv(\"../data/processed/dados_rfv.csv\", index = False)"
   ]
  },
  {
   "cell_type": "markdown",
   "id": "e4c40641-b31b-40b1-bd7f-c628e9a5ba4a",
   "metadata": {},
   "source": [
    "### Ajustes para a aplicação da análise RFV"
   ]
  },
  {
   "cell_type": "markdown",
   "id": "214e7d4e-9c81-4c7f-a18f-93d45ff247ea",
   "metadata": {},
   "source": [
    "#### Recência"
   ]
  },
  {
   "cell_type": "code",
   "execution_count": 245,
   "id": "03899ed2-c536-47b0-a230-7985dbf09a2c",
   "metadata": {},
   "outputs": [
    {
     "data": {
      "text/html": [
       "<div>\n",
       "<style scoped>\n",
       "    .dataframe tbody tr th:only-of-type {\n",
       "        vertical-align: middle;\n",
       "    }\n",
       "\n",
       "    .dataframe tbody tr th {\n",
       "        vertical-align: top;\n",
       "    }\n",
       "\n",
       "    .dataframe thead th {\n",
       "        text-align: right;\n",
       "    }\n",
       "</style>\n",
       "<table border=\"1\" class=\"dataframe\">\n",
       "  <thead>\n",
       "    <tr style=\"text-align: right;\">\n",
       "      <th></th>\n",
       "      <th>_CustomerID</th>\n",
       "      <th>OrderDate</th>\n",
       "    </tr>\n",
       "  </thead>\n",
       "  <tbody>\n",
       "    <tr>\n",
       "      <th>0</th>\n",
       "      <td>1</td>\n",
       "      <td>2020-12-23</td>\n",
       "    </tr>\n",
       "    <tr>\n",
       "      <th>1</th>\n",
       "      <td>2</td>\n",
       "      <td>2020-12-23</td>\n",
       "    </tr>\n",
       "    <tr>\n",
       "      <th>2</th>\n",
       "      <td>3</td>\n",
       "      <td>2020-12-22</td>\n",
       "    </tr>\n",
       "    <tr>\n",
       "      <th>3</th>\n",
       "      <td>4</td>\n",
       "      <td>2020-12-27</td>\n",
       "    </tr>\n",
       "    <tr>\n",
       "      <th>4</th>\n",
       "      <td>5</td>\n",
       "      <td>2020-12-02</td>\n",
       "    </tr>\n",
       "  </tbody>\n",
       "</table>\n",
       "</div>"
      ],
      "text/plain": [
       "   _CustomerID  OrderDate\n",
       "0            1 2020-12-23\n",
       "1            2 2020-12-23\n",
       "2            3 2020-12-22\n",
       "3            4 2020-12-27\n",
       "4            5 2020-12-02"
      ]
     },
     "execution_count": 245,
     "metadata": {},
     "output_type": "execute_result"
    }
   ],
   "source": [
    "df_recencia = (\n",
    "    df_rfv[[\"_CustomerID\", \"OrderDate\"]]\n",
    "    .groupby(\"_CustomerID\")[\"OrderDate\"]\n",
    "    .agg(\"max\")\n",
    "    .reset_index()\n",
    ")\n",
    "\n",
    "df_recencia.head()"
   ]
  },
  {
   "cell_type": "markdown",
   "id": "9bc62f5e-2def-4d5e-83e1-51011284817f",
   "metadata": {},
   "source": [
    "Agrupando o 'CustomerID' por 'OrderDate' agregado pelo seu valor máximo, é possível identificar a data da última compra do cliente. O próximo passo é calcular a recência em dias."
   ]
  },
  {
   "cell_type": "code",
   "execution_count": 247,
   "id": "c0c6e9aa-5c70-4314-9c47-fb2a7ce927d3",
   "metadata": {},
   "outputs": [],
   "source": [
    "cur_time = df_recencia[\"OrderDate\"].max()\n",
    "\n",
    "def days_diff(cur_time, datetime_val):\n",
    "    return (cur_time - datetime_val).days"
   ]
  },
  {
   "cell_type": "code",
   "execution_count": 248,
   "id": "61c929a9-2682-40e4-b2f5-1c47783ea5e6",
   "metadata": {},
   "outputs": [
    {
     "data": {
      "text/html": [
       "<div>\n",
       "<style scoped>\n",
       "    .dataframe tbody tr th:only-of-type {\n",
       "        vertical-align: middle;\n",
       "    }\n",
       "\n",
       "    .dataframe tbody tr th {\n",
       "        vertical-align: top;\n",
       "    }\n",
       "\n",
       "    .dataframe thead th {\n",
       "        text-align: right;\n",
       "    }\n",
       "</style>\n",
       "<table border=\"1\" class=\"dataframe\">\n",
       "  <thead>\n",
       "    <tr style=\"text-align: right;\">\n",
       "      <th></th>\n",
       "      <th>_CustomerID</th>\n",
       "      <th>OrderDate</th>\n",
       "      <th>Recencia</th>\n",
       "    </tr>\n",
       "  </thead>\n",
       "  <tbody>\n",
       "    <tr>\n",
       "      <th>0</th>\n",
       "      <td>1</td>\n",
       "      <td>2020-12-23</td>\n",
       "      <td>7</td>\n",
       "    </tr>\n",
       "    <tr>\n",
       "      <th>1</th>\n",
       "      <td>2</td>\n",
       "      <td>2020-12-23</td>\n",
       "      <td>7</td>\n",
       "    </tr>\n",
       "    <tr>\n",
       "      <th>2</th>\n",
       "      <td>3</td>\n",
       "      <td>2020-12-22</td>\n",
       "      <td>8</td>\n",
       "    </tr>\n",
       "    <tr>\n",
       "      <th>3</th>\n",
       "      <td>4</td>\n",
       "      <td>2020-12-27</td>\n",
       "      <td>3</td>\n",
       "    </tr>\n",
       "    <tr>\n",
       "      <th>4</th>\n",
       "      <td>5</td>\n",
       "      <td>2020-12-02</td>\n",
       "      <td>28</td>\n",
       "    </tr>\n",
       "  </tbody>\n",
       "</table>\n",
       "</div>"
      ],
      "text/plain": [
       "   _CustomerID  OrderDate  Recencia\n",
       "0            1 2020-12-23         7\n",
       "1            2 2020-12-23         7\n",
       "2            3 2020-12-22         8\n",
       "3            4 2020-12-27         3\n",
       "4            5 2020-12-02        28"
      ]
     },
     "execution_count": 248,
     "metadata": {},
     "output_type": "execute_result"
    }
   ],
   "source": [
    "df_recencia[\"Recencia\"] = df_recencia[\"OrderDate\"].apply(lambda datetime_val: days_diff(cur_time, datetime_val))\n",
    "df_recencia.head()"
   ]
  },
  {
   "cell_type": "code",
   "execution_count": 249,
   "id": "1a662d4c-1a2a-4668-b849-1112ef3af217",
   "metadata": {},
   "outputs": [],
   "source": [
    "# \"OrderDate\" se tornou uma coluna desnecessária, então vou remover\n",
    "\n",
    "df_recencia = df_recencia.drop(\"OrderDate\", axis = 1)"
   ]
  },
  {
   "cell_type": "code",
   "execution_count": 250,
   "id": "2a39dc3e-cd06-40eb-9d2c-549bc9e1d567",
   "metadata": {},
   "outputs": [
    {
     "data": {
      "text/plain": [
       "count    50.000000\n",
       "mean      5.100000\n",
       "std       5.395576\n",
       "min       0.000000\n",
       "25%       2.000000\n",
       "50%       3.000000\n",
       "75%       7.000000\n",
       "max      28.000000\n",
       "Name: Recencia, dtype: float64"
      ]
     },
     "execution_count": 250,
     "metadata": {},
     "output_type": "execute_result"
    }
   ],
   "source": [
    "df_recencia.Recencia.describe()"
   ]
  },
  {
   "cell_type": "code",
   "execution_count": 251,
   "id": "eb0e82b1-c5ac-43be-b1ff-f1434fedfebd",
   "metadata": {},
   "outputs": [
    {
     "data": {
      "image/png": "[encoded data removed]",
      "text/plain": [
       "<Figure size 800x600 with 1 Axes>"
      ]
     },
     "metadata": {},
     "output_type": "display_data"
    }
   ],
   "source": [
    "fig = plt.figure(figsize = (8, 6))\n",
    "ax = fig.add_axes([0, 0, 1, 1])\n",
    "\n",
    "sns.histplot(df_recencia, x = \"Recencia\", kde = True)\n",
    "ax.set_title(\"Distribuição da recência\", loc = \"left\", fontsize = 16, pad = 12)\n",
    "ax.set_xlabel(\"Recência\", fontsize = 10)\n",
    "ax.set_ylabel(\"Contagem\", fontsize = 10)\n",
    "plt.show()"
   ]
  },
  {
   "cell_type": "markdown",
   "id": "b945aa77-4cdb-41e0-90f5-d7bb57e57253",
   "metadata": {},
   "source": [
    "#### Sobre a recência\n",
    "\n",
    "Os valores de recência mais recorrentes estão entre 0 e 5 dias, mas temos clientes que estão até com 25 dias sem realizar nenhuma compra na empresa. Provavelmente, estes estão em um ponto de churn, ou seja, de abandonar a empresa. Vale ressaltar que é natural que ao longo do tempo o número de compras caia."
   ]
  },
  {
   "cell_type": "markdown",
   "id": "9e5c44d3-22c4-4670-864f-d151dce026cb",
   "metadata": {},
   "source": [
    "#### Frequência e Valor"
   ]
  },
  {
   "cell_type": "code",
   "execution_count": 254,
   "id": "aedad7f0-27a6-4d48-87d1-c6b1cea708bb",
   "metadata": {},
   "outputs": [
    {
     "data": {
      "text/html": [
       "<div>\n",
       "<style scoped>\n",
       "    .dataframe tbody tr th:only-of-type {\n",
       "        vertical-align: middle;\n",
       "    }\n",
       "\n",
       "    .dataframe tbody tr th {\n",
       "        vertical-align: top;\n",
       "    }\n",
       "\n",
       "    .dataframe thead th {\n",
       "        text-align: right;\n",
       "    }\n",
       "</style>\n",
       "<table border=\"1\" class=\"dataframe\">\n",
       "  <thead>\n",
       "    <tr style=\"text-align: right;\">\n",
       "      <th></th>\n",
       "      <th>_CustomerID</th>\n",
       "      <th>Frequencia</th>\n",
       "      <th>Valor</th>\n",
       "    </tr>\n",
       "  </thead>\n",
       "  <tbody>\n",
       "    <tr>\n",
       "      <th>0</th>\n",
       "      <td>1</td>\n",
       "      <td>152</td>\n",
       "      <td>2210.09</td>\n",
       "    </tr>\n",
       "    <tr>\n",
       "      <th>1</th>\n",
       "      <td>2</td>\n",
       "      <td>135</td>\n",
       "      <td>2425.25</td>\n",
       "    </tr>\n",
       "    <tr>\n",
       "      <th>2</th>\n",
       "      <td>3</td>\n",
       "      <td>181</td>\n",
       "      <td>2575.80</td>\n",
       "    </tr>\n",
       "    <tr>\n",
       "      <th>3</th>\n",
       "      <td>4</td>\n",
       "      <td>167</td>\n",
       "      <td>3155.58</td>\n",
       "    </tr>\n",
       "    <tr>\n",
       "      <th>4</th>\n",
       "      <td>5</td>\n",
       "      <td>159</td>\n",
       "      <td>2802.72</td>\n",
       "    </tr>\n",
       "  </tbody>\n",
       "</table>\n",
       "</div>"
      ],
      "text/plain": [
       "   _CustomerID  Frequencia    Valor\n",
       "0            1         152  2210.09\n",
       "1            2         135  2425.25\n",
       "2            3         181  2575.80\n",
       "3            4         167  3155.58\n",
       "4            5         159  2802.72"
      ]
     },
     "execution_count": 254,
     "metadata": {},
     "output_type": "execute_result"
    }
   ],
   "source": [
    "df_fv = df_rfv[[\"_CustomerID\", \"Order Quantity\", \"Revenue\"]]\n",
    "\n",
    "df_fv = (\n",
    "    df_fv.groupby(\"_CustomerID\")[[\"Order Quantity\", \"Revenue\"]]\n",
    "    .agg({\"Order Quantity\": \"count\", \"Revenue\": \"mean\"})\n",
    "    .reset_index()\n",
    ")\n",
    "\n",
    "df_fv = df_fv.rename(columns = {\"Order Quantity\": \"Frequencia\", \n",
    "                                \"Revenue\": \"Valor\"})\n",
    "\n",
    "df_fv[\"Valor\"] = df_fv[\"Valor\"].round(2)\n",
    "\n",
    "df_fv.head()"
   ]
  },
  {
   "cell_type": "markdown",
   "id": "e1727d15-3548-4cbe-887c-76be31f66264",
   "metadata": {},
   "source": [
    "Ao agrupar '_CustomerID' pela contagem de 'Order Quantity', foi possível contar quantas vezes cada ID realizou uma compra, ou seja, a Frequência. E ao agrupar pela média de 'Revenue', conseguimos nosso Valor monetário. Com isso, o próximo passo é unir os dataframes."
   ]
  },
  {
   "cell_type": "code",
   "execution_count": 256,
   "id": "aae790cd-1552-42bf-b93d-0b65ed0815b0",
   "metadata": {},
   "outputs": [
    {
     "data": {
      "text/html": [
       "<div>\n",
       "<style scoped>\n",
       "    .dataframe tbody tr th:only-of-type {\n",
       "        vertical-align: middle;\n",
       "    }\n",
       "\n",
       "    .dataframe tbody tr th {\n",
       "        vertical-align: top;\n",
       "    }\n",
       "\n",
       "    .dataframe thead th {\n",
       "        text-align: right;\n",
       "    }\n",
       "</style>\n",
       "<table border=\"1\" class=\"dataframe\">\n",
       "  <thead>\n",
       "    <tr style=\"text-align: right;\">\n",
       "      <th></th>\n",
       "      <th>_CustomerID</th>\n",
       "      <th>Recencia</th>\n",
       "      <th>Frequencia</th>\n",
       "      <th>Valor</th>\n",
       "    </tr>\n",
       "  </thead>\n",
       "  <tbody>\n",
       "    <tr>\n",
       "      <th>0</th>\n",
       "      <td>1</td>\n",
       "      <td>7</td>\n",
       "      <td>152</td>\n",
       "      <td>2210.09</td>\n",
       "    </tr>\n",
       "    <tr>\n",
       "      <th>1</th>\n",
       "      <td>2</td>\n",
       "      <td>7</td>\n",
       "      <td>135</td>\n",
       "      <td>2425.25</td>\n",
       "    </tr>\n",
       "    <tr>\n",
       "      <th>2</th>\n",
       "      <td>3</td>\n",
       "      <td>8</td>\n",
       "      <td>181</td>\n",
       "      <td>2575.80</td>\n",
       "    </tr>\n",
       "    <tr>\n",
       "      <th>3</th>\n",
       "      <td>4</td>\n",
       "      <td>3</td>\n",
       "      <td>167</td>\n",
       "      <td>3155.58</td>\n",
       "    </tr>\n",
       "    <tr>\n",
       "      <th>4</th>\n",
       "      <td>5</td>\n",
       "      <td>28</td>\n",
       "      <td>159</td>\n",
       "      <td>2802.72</td>\n",
       "    </tr>\n",
       "  </tbody>\n",
       "</table>\n",
       "</div>"
      ],
      "text/plain": [
       "   _CustomerID  Recencia  Frequencia    Valor\n",
       "0            1         7         152  2210.09\n",
       "1            2         7         135  2425.25\n",
       "2            3         8         181  2575.80\n",
       "3            4         3         167  3155.58\n",
       "4            5        28         159  2802.72"
      ]
     },
     "execution_count": 256,
     "metadata": {},
     "output_type": "execute_result"
    }
   ],
   "source": [
    "df_modelo = df_recencia.merge(df_fv, on = \"_CustomerID\", how = \"left\")\n",
    "df_modelo = df_modelo.fillna(0)\n",
    "df_modelo.head()"
   ]
  },
  {
   "cell_type": "code",
   "execution_count": 257,
   "id": "d82d698f-80df-4776-b756-08a7b16002fd",
   "metadata": {},
   "outputs": [
    {
     "data": {
      "image/png": "[encoded data removed]",
      "text/plain": [
       "<Figure size 800x600 with 1 Axes>"
      ]
     },
     "metadata": {},
     "output_type": "display_data"
    }
   ],
   "source": [
    "fig = plt.figure(figsize = (8, 6))\n",
    "ax = fig.add_axes([0, 0, 1, 1])\n",
    "\n",
    "sns.histplot(df_modelo, x = \"Frequencia\", kde = True, color = \"#7033FF\")\n",
    "ax.set_title(\"Distribuição da frequência\", loc = \"left\", fontsize = 16, pad = 12)\n",
    "ax.set_xlabel(\"Frequência\", fontsize = 10)\n",
    "ax.set_ylabel(\"Contagem\", fontsize = 10)\n",
    "plt.show()"
   ]
  },
  {
   "cell_type": "code",
   "execution_count": 258,
   "id": "5a98b023-9922-4104-82ee-76d12dc33893",
   "metadata": {},
   "outputs": [
    {
     "data": {
      "image/png": "[encoded data removed]",
      "text/plain": [
       "<Figure size 800x600 with 1 Axes>"
      ]
     },
     "metadata": {},
     "output_type": "display_data"
    }
   ],
   "source": [
    "fig = plt.figure(figsize = (8, 6))\n",
    "ax = fig.add_axes([0, 0, 1, 1])\n",
    "\n",
    "sns.histplot(df_modelo, x = \"Valor\", kde = True, color = \"#F65164\")\n",
    "ax.set_title(\"Distribuição do valor\", loc = \"left\", fontsize = 16, pad = 12)\n",
    "ax.set_xlabel(\"Valor\", fontsize = 10)\n",
    "ax.set_ylabel(\"Contagem\", fontsize = 10)\n",
    "plt.show()"
   ]
  },
  {
   "cell_type": "code",
   "execution_count": 259,
   "id": "8c975993-b8a2-413a-81d0-5954e62c0712",
   "metadata": {},
   "outputs": [
    {
     "data": {
      "text/html": [
       "<div>\n",
       "<style scoped>\n",
       "    .dataframe tbody tr th:only-of-type {\n",
       "        vertical-align: middle;\n",
       "    }\n",
       "\n",
       "    .dataframe tbody tr th {\n",
       "        vertical-align: top;\n",
       "    }\n",
       "\n",
       "    .dataframe thead th {\n",
       "        text-align: right;\n",
       "    }\n",
       "</style>\n",
       "<table border=\"1\" class=\"dataframe\">\n",
       "  <thead>\n",
       "    <tr style=\"text-align: right;\">\n",
       "      <th></th>\n",
       "      <th>_CustomerID</th>\n",
       "      <th>Recencia</th>\n",
       "      <th>Frequencia</th>\n",
       "      <th>Valor</th>\n",
       "    </tr>\n",
       "  </thead>\n",
       "  <tbody>\n",
       "    <tr>\n",
       "      <th>count</th>\n",
       "      <td>50.00000</td>\n",
       "      <td>50.000000</td>\n",
       "      <td>50.00000</td>\n",
       "      <td>50.00000</td>\n",
       "    </tr>\n",
       "    <tr>\n",
       "      <th>mean</th>\n",
       "      <td>25.50000</td>\n",
       "      <td>5.100000</td>\n",
       "      <td>159.82000</td>\n",
       "      <td>2663.37080</td>\n",
       "    </tr>\n",
       "    <tr>\n",
       "      <th>std</th>\n",
       "      <td>14.57738</td>\n",
       "      <td>5.395576</td>\n",
       "      <td>14.23088</td>\n",
       "      <td>251.29131</td>\n",
       "    </tr>\n",
       "    <tr>\n",
       "      <th>min</th>\n",
       "      <td>1.00000</td>\n",
       "      <td>0.000000</td>\n",
       "      <td>135.00000</td>\n",
       "      <td>2210.09000</td>\n",
       "    </tr>\n",
       "    <tr>\n",
       "      <th>25%</th>\n",
       "      <td>13.25000</td>\n",
       "      <td>2.000000</td>\n",
       "      <td>151.25000</td>\n",
       "      <td>2436.21250</td>\n",
       "    </tr>\n",
       "    <tr>\n",
       "      <th>50%</th>\n",
       "      <td>25.50000</td>\n",
       "      <td>3.000000</td>\n",
       "      <td>157.50000</td>\n",
       "      <td>2666.38000</td>\n",
       "    </tr>\n",
       "    <tr>\n",
       "      <th>75%</th>\n",
       "      <td>37.75000</td>\n",
       "      <td>7.000000</td>\n",
       "      <td>167.75000</td>\n",
       "      <td>2826.41750</td>\n",
       "    </tr>\n",
       "    <tr>\n",
       "      <th>max</th>\n",
       "      <td>50.00000</td>\n",
       "      <td>28.000000</td>\n",
       "      <td>210.00000</td>\n",
       "      <td>3175.92000</td>\n",
       "    </tr>\n",
       "  </tbody>\n",
       "</table>\n",
       "</div>"
      ],
      "text/plain": [
       "       _CustomerID   Recencia  Frequencia       Valor\n",
       "count     50.00000  50.000000    50.00000    50.00000\n",
       "mean      25.50000   5.100000   159.82000  2663.37080\n",
       "std       14.57738   5.395576    14.23088   251.29131\n",
       "min        1.00000   0.000000   135.00000  2210.09000\n",
       "25%       13.25000   2.000000   151.25000  2436.21250\n",
       "50%       25.50000   3.000000   157.50000  2666.38000\n",
       "75%       37.75000   7.000000   167.75000  2826.41750\n",
       "max       50.00000  28.000000   210.00000  3175.92000"
      ]
     },
     "execution_count": 259,
     "metadata": {},
     "output_type": "execute_result"
    }
   ],
   "source": [
    "df_modelo.describe()"
   ]
  },
  {
   "cell_type": "markdown",
   "id": "d6124601-1040-46ff-9dbd-70b9c14c648d",
   "metadata": {},
   "source": [
    "A maior diferença entre os clientes está na recência e frequência de compras, os valores gastos na empresa estão em médias próximas."
   ]
  },
  {
   "cell_type": "markdown",
   "id": "fd56b332-6bf3-4af9-93f7-a77b66541e1f",
   "metadata": {},
   "source": [
    "# 4. Clusterização com K-Means"
   ]
  },
  {
   "cell_type": "markdown",
   "id": "1e97dee7-6130-448b-a1a1-5401eaead2b6",
   "metadata": {},
   "source": [
    "## 4.2. Pré-processamento de dados"
   ]
  },
  {
   "cell_type": "markdown",
   "id": "8351a7df-92a9-437a-a33c-f635b244cfcb",
   "metadata": {},
   "source": [
    "### Aplicação do StandardScaler"
   ]
  },
  {
   "cell_type": "code",
   "execution_count": 264,
   "id": "43944c86-164f-48b7-b84f-e35637dde041",
   "metadata": {},
   "outputs": [],
   "source": [
    "from sklearn.preprocessing import StandardScaler\n",
    "\n",
    "feature_cols = [\"Recencia\", \"Frequencia\", \"Valor\"]\n",
    "\n",
    "standardized_data = df_modelo.copy()\n",
    "\n",
    "scaler = StandardScaler()\n",
    "\n",
    "scaler.fit(df_modelo[feature_cols])\n",
    "\n",
    "standardized_features = scaler.transform(df_modelo[feature_cols])\n",
    "standardized_data[feature_cols] = standardized_features"
   ]
  },
  {
   "cell_type": "markdown",
   "id": "b1c05244-9db7-45ec-941f-fa9f93c1fbc1",
   "metadata": {},
   "source": [
    "### Definindo o número de clusters através do método do cotovelo"
   ]
  },
  {
   "cell_type": "code",
   "execution_count": 266,
   "id": "33f9c73d-6e01-4408-9d7d-dbd45da5fe34",
   "metadata": {},
   "outputs": [
    {
     "data": {
      "image/png": "[encoded data removed]",
      "text/plain": [
       "<Figure size 800x600 with 1 Axes>"
      ]
     },
     "metadata": {},
     "output_type": "display_data"
    }
   ],
   "source": [
    "from sklearn.cluster import KMeans\n",
    "\n",
    "data = standardized_data.iloc[:, [1, 2, 3]].values\n",
    "\n",
    "k_range = range(1, 16)\n",
    "distortions = []\n",
    "k_values = []\n",
    "\n",
    "for k in k_range:\n",
    "    kmeans = KMeans(n_clusters=k)\n",
    "    kmeans.fit(data)\n",
    "    distortions.append(kmeans.inertia_)\n",
    "    k_values.append(k)\n",
    "\n",
    "fig = plt.figure(figsize = (8, 6))\n",
    "ax = fig.add_axes([0, 0, 1, 1])\n",
    "\n",
    "plt.plot(k_values, distortions)\n",
    "ax.set_title(\"Método do Cotovelo\", loc = \"left\", fontsize = 16, pad = 10)\n",
    "ax.set_xlabel(\"Número de Clusters\", fontsize = 10)\n",
    "ax.set_ylabel(\"Distorção\", fontsize = 10)\n",
    "plt.show()"
   ]
  },
  {
   "cell_type": "markdown",
   "id": "ec037e8e-e73c-4507-8511-259ba21cbf34",
   "metadata": {},
   "source": [
    "O \"cotovelo\" da nossa curva indica que devemos utilizar 4 clusters."
   ]
  },
  {
   "cell_type": "markdown",
   "id": "351d6af0-7a90-4a22-a526-e50ae4e566bb",
   "metadata": {},
   "source": [
    "## 4.2. Aplicação do KMeans"
   ]
  },
  {
   "cell_type": "code",
   "execution_count": 269,
   "id": "607aca2b-59af-41c7-a34d-f7298df28b4d",
   "metadata": {},
   "outputs": [
    {
     "data": {
      "text/html": [
       "<div>\n",
       "<style scoped>\n",
       "    .dataframe tbody tr th:only-of-type {\n",
       "        vertical-align: middle;\n",
       "    }\n",
       "\n",
       "    .dataframe tbody tr th {\n",
       "        vertical-align: top;\n",
       "    }\n",
       "\n",
       "    .dataframe thead th {\n",
       "        text-align: right;\n",
       "    }\n",
       "</style>\n",
       "<table border=\"1\" class=\"dataframe\">\n",
       "  <thead>\n",
       "    <tr style=\"text-align: right;\">\n",
       "      <th></th>\n",
       "      <th>_CustomerID</th>\n",
       "      <th>Recencia</th>\n",
       "      <th>Frequencia</th>\n",
       "      <th>Valor</th>\n",
       "      <th>Cluster</th>\n",
       "    </tr>\n",
       "  </thead>\n",
       "  <tbody>\n",
       "    <tr>\n",
       "      <th>0</th>\n",
       "      <td>1</td>\n",
       "      <td>7</td>\n",
       "      <td>152</td>\n",
       "      <td>2210.09</td>\n",
       "      <td>2</td>\n",
       "    </tr>\n",
       "    <tr>\n",
       "      <th>1</th>\n",
       "      <td>2</td>\n",
       "      <td>7</td>\n",
       "      <td>135</td>\n",
       "      <td>2425.25</td>\n",
       "      <td>2</td>\n",
       "    </tr>\n",
       "    <tr>\n",
       "      <th>2</th>\n",
       "      <td>3</td>\n",
       "      <td>8</td>\n",
       "      <td>181</td>\n",
       "      <td>2575.80</td>\n",
       "      <td>1</td>\n",
       "    </tr>\n",
       "    <tr>\n",
       "      <th>3</th>\n",
       "      <td>4</td>\n",
       "      <td>3</td>\n",
       "      <td>167</td>\n",
       "      <td>3155.58</td>\n",
       "      <td>0</td>\n",
       "    </tr>\n",
       "    <tr>\n",
       "      <th>4</th>\n",
       "      <td>5</td>\n",
       "      <td>28</td>\n",
       "      <td>159</td>\n",
       "      <td>2802.72</td>\n",
       "      <td>3</td>\n",
       "    </tr>\n",
       "  </tbody>\n",
       "</table>\n",
       "</div>"
      ],
      "text/plain": [
       "   _CustomerID  Recencia  Frequencia    Valor  Cluster\n",
       "0            1         7         152  2210.09        2\n",
       "1            2         7         135  2425.25        2\n",
       "2            3         8         181  2575.80        1\n",
       "3            4         3         167  3155.58        0\n",
       "4            5        28         159  2802.72        3"
      ]
     },
     "execution_count": 269,
     "metadata": {},
     "output_type": "execute_result"
    }
   ],
   "source": [
    "kmeans = KMeans(n_clusters = 4, random_state = 42)\n",
    "kmeans.fit(standardized_data[feature_cols])\n",
    "\n",
    "df_modelo[\"Cluster\"] = kmeans.labels_\n",
    "df_modelo.head()"
   ]
  },
  {
   "cell_type": "markdown",
   "id": "67e6925a-8c0e-4c12-a70e-8f25909f5aa1",
   "metadata": {},
   "source": [
    "### Boxplots dos Clusters"
   ]
  },
  {
   "cell_type": "code",
   "execution_count": 271,
   "id": "1fd54d01-bb4a-48d5-8854-d1d55ca551f2",
   "metadata": {},
   "outputs": [
    {
     "data": {
      "image/png": "[encoded data removed]",
      "text/plain": [
       "<Figure size 800x600 with 1 Axes>"
      ]
     },
     "metadata": {},
     "output_type": "display_data"
    }
   ],
   "source": [
    "fig = plt.figure(figsize = (8, 6))\n",
    "ax = fig.add_axes([0, 0, 1, 1])\n",
    "\n",
    "sns.boxplot(df_modelo, x = \"Cluster\", y = \"Recencia\", palette = my_palette)\n",
    "ax.set_title(\"Boxplot das Recencias\", loc = \"left\", fontsize = 16, pad = 10)\n",
    "plt.show()"
   ]
  },
  {
   "cell_type": "code",
   "execution_count": 272,
   "id": "3543a66f-c2d4-4506-a0af-e87586214b2e",
   "metadata": {},
   "outputs": [
    {
     "data": {
      "image/png": "[encoded data removed]",
      "text/plain": [
       "<Figure size 800x600 with 1 Axes>"
      ]
     },
     "metadata": {},
     "output_type": "display_data"
    }
   ],
   "source": [
    "fig = plt.figure(figsize = (8, 6))\n",
    "ax = fig.add_axes([0, 0, 1, 1])\n",
    "\n",
    "sns.boxplot(df_modelo, x = \"Cluster\", y = \"Frequencia\", palette = my_palette)\n",
    "ax.set_title(\"Boxplot das Frequências\", loc = \"left\", fontsize = 16, pad = 10)\n",
    "plt.show()"
   ]
  },
  {
   "cell_type": "code",
   "execution_count": 273,
   "id": "ebe69b8a-fdae-4503-9c62-be33ece75522",
   "metadata": {},
   "outputs": [
    {
     "data": {
      "image/png": "[encoded data removed]",
      "text/plain": [
       "<Figure size 800x600 with 1 Axes>"
      ]
     },
     "metadata": {},
     "output_type": "display_data"
    }
   ],
   "source": [
    "fig = plt.figure(figsize = (8, 6))\n",
    "ax = fig.add_axes([0, 0, 1, 1])\n",
    "\n",
    "sns.boxplot(df_modelo, x = \"Cluster\", y = \"Valor\", palette = my_palette)\n",
    "ax.set_title(\"Boxplot do Valor\", loc = \"left\", fontsize = 16, pad = 10)\n",
    "plt.show()"
   ]
  },
  {
   "cell_type": "markdown",
   "id": "ebaab56d-71c3-4007-8e52-3b258db5c496",
   "metadata": {},
   "source": [
    "### Definição da Segmentação"
   ]
  },
  {
   "cell_type": "code",
   "execution_count": 275,
   "id": "4f7655fa-4f5b-4dfb-ab5b-79b54fb5c116",
   "metadata": {
    "scrolled": true
   },
   "outputs": [
    {
     "data": {
      "text/html": [
       "<div>\n",
       "<style scoped>\n",
       "    .dataframe tbody tr th:only-of-type {\n",
       "        vertical-align: middle;\n",
       "    }\n",
       "\n",
       "    .dataframe tbody tr th {\n",
       "        vertical-align: top;\n",
       "    }\n",
       "\n",
       "    .dataframe thead th {\n",
       "        text-align: right;\n",
       "    }\n",
       "</style>\n",
       "<table border=\"1\" class=\"dataframe\">\n",
       "  <thead>\n",
       "    <tr style=\"text-align: right;\">\n",
       "      <th></th>\n",
       "      <th>Cluster</th>\n",
       "      <th>Número de Clientes</th>\n",
       "      <th>Recencia</th>\n",
       "      <th>Frequencia</th>\n",
       "      <th>Valor</th>\n",
       "    </tr>\n",
       "  </thead>\n",
       "  <tbody>\n",
       "    <tr>\n",
       "      <th>0</th>\n",
       "      <td>0</td>\n",
       "      <td>16</td>\n",
       "      <td>2.625000</td>\n",
       "      <td>153.000000</td>\n",
       "      <td>2844.886875</td>\n",
       "    </tr>\n",
       "    <tr>\n",
       "      <th>1</th>\n",
       "      <td>1</td>\n",
       "      <td>14</td>\n",
       "      <td>3.785714</td>\n",
       "      <td>176.571429</td>\n",
       "      <td>2701.735000</td>\n",
       "    </tr>\n",
       "    <tr>\n",
       "      <th>2</th>\n",
       "      <td>2</td>\n",
       "      <td>14</td>\n",
       "      <td>4.357143</td>\n",
       "      <td>150.000000</td>\n",
       "      <td>2379.587143</td>\n",
       "    </tr>\n",
       "    <tr>\n",
       "      <th>3</th>\n",
       "      <td>3</td>\n",
       "      <td>6</td>\n",
       "      <td>16.500000</td>\n",
       "      <td>161.833333</td>\n",
       "      <td>2751.973333</td>\n",
       "    </tr>\n",
       "  </tbody>\n",
       "</table>\n",
       "</div>"
      ],
      "text/plain": [
       "   Cluster  Número de Clientes   Recencia  Frequencia        Valor\n",
       "0        0                  16   2.625000  153.000000  2844.886875\n",
       "1        1                  14   3.785714  176.571429  2701.735000\n",
       "2        2                  14   4.357143  150.000000  2379.587143\n",
       "3        3                   6  16.500000  161.833333  2751.973333"
      ]
     },
     "execution_count": 275,
     "metadata": {},
     "output_type": "execute_result"
    }
   ],
   "source": [
    "centroid_df = (\n",
    "    df_modelo.groupby(\"Cluster\")[[\"_CustomerID\", \"Recencia\", \"Frequencia\", \"Valor\"]]\n",
    "    .agg(\n",
    "        {\n",
    "            \"_CustomerID\": \"nunique\",\n",
    "            \"Recencia\": \"mean\",\n",
    "            \"Frequencia\": \"mean\",\n",
    "            \"Valor\": \"mean\"\n",
    "        }\n",
    "    )\n",
    "    .reset_index()\n",
    ")\n",
    "\n",
    "centroid_df = centroid_df.rename(columns = {\"_CustomerID\": \"Número de Clientes\"})\n",
    "\n",
    "centroid_df.head()"
   ]
  },
  {
   "cell_type": "markdown",
   "id": "10a5c6a0-202b-4b15-95ab-ef7fce19a453",
   "metadata": {},
   "source": [
    "#### Os segmentos\n",
    "\n",
    "- Cluster 0: Recência baixa, frequência média, valor muito alto. Clientes Potencialmente Leais.\n",
    "- Cluster 1: Recência média, frequência muito alta, valor alto. Clientes Frequentes de Valor.\n",
    "- Cluster 2: Recência alta, frequência baixa, valor baixo. Clientes de Retenção.\n",
    "- Cluster 3: Recência muito alta, frequência alta, valor médio. Clientes Regulares."
   ]
  },
  {
   "cell_type": "code",
   "execution_count": 277,
   "id": "686c9b33-a0ba-473c-8ebc-a97eda208537",
   "metadata": {},
   "outputs": [],
   "source": [
    "def segment(value):\n",
    "    if value == 0:\n",
    "        return \"Leal\"\n",
    "    elif value == 1:\n",
    "        return \"Valor\"\n",
    "    elif value == 2:\n",
    "        return \"Retenção\"\n",
    "    else:\n",
    "        return \"Regular\""
   ]
  },
  {
   "cell_type": "code",
   "execution_count": 278,
   "id": "8622600e-6c5a-4ae8-9976-e13ca8112df3",
   "metadata": {},
   "outputs": [
    {
     "data": {
      "text/html": [
       "<div>\n",
       "<style scoped>\n",
       "    .dataframe tbody tr th:only-of-type {\n",
       "        vertical-align: middle;\n",
       "    }\n",
       "\n",
       "    .dataframe tbody tr th {\n",
       "        vertical-align: top;\n",
       "    }\n",
       "\n",
       "    .dataframe thead th {\n",
       "        text-align: right;\n",
       "    }\n",
       "</style>\n",
       "<table border=\"1\" class=\"dataframe\">\n",
       "  <thead>\n",
       "    <tr style=\"text-align: right;\">\n",
       "      <th></th>\n",
       "      <th>_CustomerID</th>\n",
       "      <th>Recencia</th>\n",
       "      <th>Frequencia</th>\n",
       "      <th>Valor</th>\n",
       "      <th>Segmento</th>\n",
       "    </tr>\n",
       "  </thead>\n",
       "  <tbody>\n",
       "    <tr>\n",
       "      <th>0</th>\n",
       "      <td>1</td>\n",
       "      <td>7</td>\n",
       "      <td>152</td>\n",
       "      <td>2210.09</td>\n",
       "      <td>Retenção</td>\n",
       "    </tr>\n",
       "    <tr>\n",
       "      <th>1</th>\n",
       "      <td>2</td>\n",
       "      <td>7</td>\n",
       "      <td>135</td>\n",
       "      <td>2425.25</td>\n",
       "      <td>Retenção</td>\n",
       "    </tr>\n",
       "    <tr>\n",
       "      <th>2</th>\n",
       "      <td>3</td>\n",
       "      <td>8</td>\n",
       "      <td>181</td>\n",
       "      <td>2575.80</td>\n",
       "      <td>Valor</td>\n",
       "    </tr>\n",
       "    <tr>\n",
       "      <th>3</th>\n",
       "      <td>4</td>\n",
       "      <td>3</td>\n",
       "      <td>167</td>\n",
       "      <td>3155.58</td>\n",
       "      <td>Leal</td>\n",
       "    </tr>\n",
       "    <tr>\n",
       "      <th>4</th>\n",
       "      <td>5</td>\n",
       "      <td>28</td>\n",
       "      <td>159</td>\n",
       "      <td>2802.72</td>\n",
       "      <td>Regular</td>\n",
       "    </tr>\n",
       "  </tbody>\n",
       "</table>\n",
       "</div>"
      ],
      "text/plain": [
       "   _CustomerID  Recencia  Frequencia    Valor  Segmento\n",
       "0            1         7         152  2210.09  Retenção\n",
       "1            2         7         135  2425.25  Retenção\n",
       "2            3         8         181  2575.80     Valor\n",
       "3            4         3         167  3155.58      Leal\n",
       "4            5        28         159  2802.72   Regular"
      ]
     },
     "execution_count": 278,
     "metadata": {},
     "output_type": "execute_result"
    }
   ],
   "source": [
    "df_modelo[\"Segmento\"] = df_modelo[\"Cluster\"].apply(segment)\n",
    "df_modelo.drop(columns = \"Cluster\", axis = 1, inplace = True)\n",
    "df_modelo.head()"
   ]
  },
  {
   "cell_type": "code",
   "execution_count": 279,
   "id": "24dc4da4-809e-4890-bae2-083ac5b5fd48",
   "metadata": {},
   "outputs": [],
   "source": [
    "# Salvando o dataset para o time de marketing fazer análises e dashboards\n",
    "\n",
    "df_modelo.to_csv(\"../data/processed/clientes_segmentados.csv\", sep = \";\", decimal = \",\")"
   ]
  },
  {
   "cell_type": "markdown",
   "id": "04ec26da-eef6-4f0a-9fac-fadbfe645563",
   "metadata": {},
   "source": [
    "# 5. Insights e conclusões"
   ]
  },
  {
   "cell_type": "markdown",
   "id": "b072463b-1af7-4ffa-8a5a-e7a0505d58b4",
   "metadata": {},
   "source": [
    "## 5.1. Sobre os segmentos"
   ]
  },
  {
   "cell_type": "markdown",
   "id": "ccef34f9-35b9-47c8-ac44-291abb4eaf02",
   "metadata": {},
   "source": [
    "Pensei nos segmentos da seguinte forma:\n",
    "\n",
    "- Clientes potencialmente leais: podem estar explorando diferentes produtos dentro da empresa e têm potencial para se tornarem leais à nossa marca com o tempo. Ofertas personalizadas e outros meios de mantê-los engajados são importantes.\n",
    "- Frequentes de valor: são aqueles regulares que constantemente consomem nossos serviços. Com estes, precisamos usar estratégias de fidelização, como programas de recompensas e descontos por recorrência.\n",
    "- Clientes de retenção: possivelmente estão perdendo o interesse em nossa marca ou podem já ter encontrado outra opção. Para estes, precisamos buscar meios de reativação e incentivos para reacender a vontade de nos buscar.\n",
    "- Clientes regulares: são fiéis à nossa marca e retornam com certa regularidade. Buscar recomendações baseadas em suas últimas compras pode ser uma forma de estimular mais compras. "
   ]
  },
  {
   "cell_type": "markdown",
   "id": "5b0fcb36-3ccf-4ffe-b46c-ca29118b7ace",
   "metadata": {},
   "source": [
    "## 5.2. Sugestões para o time marketing"
   ]
  },
  {
   "cell_type": "markdown",
   "id": "a1401324-3f01-4caf-bfc5-1c692f5fc24d",
   "metadata": {},
   "source": [
    "#### Para Clientes Potencialmente Leais\n",
    "\n",
    "1. Campanhas de recomendações e descontos personalizados: Através de e-mail marketing, sugerir produtos relacionados ou que complementam as últimas compras, juntamente com cupons de desconto.\n",
    "2. Programa de exclusividade: Oferecer acesso exclusivo a novos produtos no catálogo com certa antecedência."
   ]
  },
  {
   "cell_type": "markdown",
   "id": "ad82f532-9836-4482-b07d-a6e1be53c512",
   "metadata": {},
   "source": [
    "#### Para Clientes Frequentes de Valor\n",
    "\n",
    "1. Programa de fidelidade: Oferecer recompensas a partir de metas de consumo, como descontos especiais e brindes que remetam à nossa marca, assim como eventos para clientes dentro do programa, como dias com ofertas diferenciadas."
   ]
  },
  {
   "cell_type": "markdown",
   "id": "36c24f54-faff-42c2-a070-5d4e2ee86d2f",
   "metadata": {},
   "source": [
    "#### Para Clientes de Retenção\n",
    "\n",
    "1. Campanhas de reativação: Envio de e-mails com descontos agressivos baseados nas últimas compras feitas ou oferecer descontos para as próximas compras.\n",
    "2. Pesquisas de satisfação: Envio de e-mails com pesquisa de satisfação, para entender os motivos da inatividade, com desconto especial ao final do formulário."
   ]
  },
  {
   "cell_type": "markdown",
   "id": "9c94da75-6af0-4c6d-83a9-7549a335d63e",
   "metadata": {},
   "source": [
    "#### Para Clientes Regulares\n",
    "\n",
    "1. Promoções de recompensa por referência: Incentivar esses clientes a indicarem amigos ou familiares oferecendo recompensas especiais, como descontos ou brindes, para cada nova indicação bem-sucedida."
   ]
  },
  {
   "cell_type": "markdown",
   "id": "a37387ae-159e-4bb5-95b9-f4f6a1b5b005",
   "metadata": {},
   "source": [
    "![img](https://images.unsplash.com/photo-1563986768609-322da13575f3?q=80&w=2070&auto=format&fit=crop&ixlib=rb-4.0.3&ixid=M3wxMjA3fDB8MHxwaG90by1wYWdlfHx8fGVufDB8fHx8fA%3D%3D)"
   ]
  },
  {
   "cell_type": "markdown",
   "id": "051cb969-2295-442f-98fa-9ac5abf5f773",
   "metadata": {},
   "source": [
    "### 5.3. Conclusões\n",
    "\n",
    "Ao concluir este projeto, podemos ver como, no caso do setor de marketing, a Análise RFV pode ser ponto chave para campanhas bem-sucedidas e bons resultados. Uma segmentação bem realizada permite a criação de campanhas de marketing com um direcionamento personalizado para cada tipo de cliente, dando um pouco de \"alma\" para cada campanha. A análise pode ser direcionada para diversos outros setores com fins diferentes, mas sempre entregando como resultado uma segmentação que permite trabalhar de forma ajustada e com menos espaços para erros causados por generalismos."
   ]
  }
 ],
 "metadata": {
  "kernelspec": {
   "display_name": "Python 3 (ipykernel)",
   "language": "python",
   "name": "python3"
  },
  "language_info": {
   "codemirror_mode": {
    "name": "ipython",
    "version": 3
   },
   "file_extension": ".py",
   "mimetype": "text/x-python",
   "name": "python",
   "nbconvert_exporter": "python",
   "pygments_lexer": "ipython3",
   "version": "3.11.7"
  }
 },
 "nbformat": 4,
 "nbformat_minor": 5
}
